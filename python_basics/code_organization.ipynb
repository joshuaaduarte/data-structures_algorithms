{
 "cells": [
  {
   "cell_type": "markdown",
   "id": "5e77c33f-ab27-4e05-85fe-e7a336fdbe5f",
   "metadata": {},
   "source": [
    "___\n",
    "## Code Organization: Functions, modules, and packages\n",
    "___\n",
    "\n",
    "Now that we have covered the basic syntac of Python, we will begin to learn how to build code to solve interesting problems. Programming is often a group or even community activity, and is therefore important to write code that is clear and well organized. \n",
    "\n",
    "Here are some tips:\n",
    "\n",
    "+ Use information variable names, even if they are a bit longer. `flow_m3perhr` is better than `x`. \n",
    "+ Include lots of comments. `#`\n",
    "+ Gather reusable code into **functions**.\n",
    "+ Gather functions into **modules**. \n",
    "+ Gather modules into **packages**."
   ]
  },
  {
   "cell_type": "markdown",
   "id": "c2a99494-c604-4a0d-b627-c6674e8106ee",
   "metadata": {},
   "source": [
    "___\n",
    "## Functions \n",
    "___\n",
    "Functions are the building blocks of your programs. These are chunks of code that depend on some data (the inputs) to produce other data (the outputs)\n",
    "\n",
    "We have already used many functions, but is now time to write our own. \n",
    "\n",
    "### Syntax \n",
    "\n",
    "```python\n",
    "def <name of the function>( <arguments> ): \n",
    "    <body>\n",
    "    return <output>\n",
    "```\n",
    "\n",
    "+ `def` tells Python that what follows is a function/ \n",
    "+ The body of the function is indented with respect to `def`.\n",
    "+ `<arguments>` is optional.\n",
    "+ Notice the `:`\n",
    "+ The `return` statement tells Python to exit the function and return `<output>`. There may be multiple (or no) `return` statements in the function.\n",
    "+ Functions is Python must be defined **before** they are used\n",
    "\n",
    "### Example\n",
    "\n",
    "Write a functions that adds one to a number. "
   ]
  },
  {
   "cell_type": "code",
   "execution_count": null,
   "id": "f1af9f83-c30b-4ef6-8bd2-a57f8fd32ae0",
   "metadata": {},
   "outputs": [],
   "source": []
  },
  {
   "cell_type": "markdown",
   "id": "27c2c831-c9a5-4745-be91-ea927839c4e9",
   "metadata": {},
   "source": [
    "The following will not work because the function is used before it is defined. "
   ]
  },
  {
   "cell_type": "code",
   "execution_count": 1,
   "id": "5a5b5143-38fe-4439-a297-7768ed1dd6db",
   "metadata": {},
   "outputs": [
    {
     "ename": "NameError",
     "evalue": "name 'multiply_by_7' is not defined",
     "output_type": "error",
     "traceback": [
      "\u001b[1;31m---------------------------------------------------------------------------\u001b[0m",
      "\u001b[1;31mNameError\u001b[0m                                 Traceback (most recent call last)",
      "\u001b[1;32m~\\AppData\\Local\\Temp\\ipykernel_27476\\3739111465.py\u001b[0m in \u001b[0;36m<module>\u001b[1;34m\u001b[0m\n\u001b[1;32m----> 1\u001b[1;33m \u001b[0mprint\u001b[0m\u001b[1;33m(\u001b[0m\u001b[0mmultiply_by_7\u001b[0m\u001b[1;33m(\u001b[0m\u001b[1;36m2\u001b[0m\u001b[1;33m)\u001b[0m\u001b[1;33m)\u001b[0m\u001b[1;33m\u001b[0m\u001b[1;33m\u001b[0m\u001b[0m\n\u001b[0m\u001b[0;32m      2\u001b[0m \u001b[1;33m\u001b[0m\u001b[0m\n\u001b[0;32m      3\u001b[0m \u001b[1;32mdef\u001b[0m \u001b[0mmultiply_by_7\u001b[0m\u001b[1;33m(\u001b[0m\u001b[0ma\u001b[0m\u001b[1;33m)\u001b[0m\u001b[1;33m:\u001b[0m\u001b[1;33m\u001b[0m\u001b[1;33m\u001b[0m\u001b[0m\n\u001b[0;32m      4\u001b[0m     \u001b[0mb\u001b[0m \u001b[1;33m=\u001b[0m \u001b[0ma\u001b[0m \u001b[1;33m*\u001b[0m \u001b[1;36m7\u001b[0m\u001b[1;33m\u001b[0m\u001b[1;33m\u001b[0m\u001b[0m\n\u001b[0;32m      5\u001b[0m     \u001b[1;32mreturn\u001b[0m \u001b[0mb\u001b[0m\u001b[1;33m\u001b[0m\u001b[1;33m\u001b[0m\u001b[0m\n",
      "\u001b[1;31mNameError\u001b[0m: name 'multiply_by_7' is not defined"
     ]
    }
   ],
   "source": [
    "print(multiply_by_7(2))\n",
    "\n",
    "def multiply_by_7(a):\n",
    "    b = a * 7\n",
    "    return b \n"
   ]
  },
  {
   "cell_type": "markdown",
   "id": "604fb33f-2140-4f84-a608-369100aa747c",
   "metadata": {},
   "source": [
    "___ \n",
    "## Input\n",
    " \n",
    "Inputs can be passed to functions via either positional or keyword arguments. \n",
    "\n",
    "## Positional Arguments\n",
    "\n",
    "This is the style used in most programming languages, including C, C++, Java, Fortran, JavaScript, and Matlab. Here the multiple inputs must be passed by the caller in the same order as they are listed in the function declaration."
   ]
  },
  {
   "cell_type": "code",
   "execution_count": 3,
   "id": "dd208cee-f8c6-4e89-9d4a-d2ce3395bb10",
   "metadata": {},
   "outputs": [
    {
     "name": "stdout",
     "output_type": "stream",
     "text": [
      "Return $10.\n"
     ]
    }
   ],
   "source": [
    "def compute_change(unit_price, quantity, payment): \n",
    "    change = payment - unit_price * quantity\n",
    "    return change\n",
    "\n",
    "change = compute_change(10,2,30)\n",
    "print('Return ${0}.'.format(change))"
   ]
  },
  {
   "cell_type": "markdown",
   "id": "1bb0809f-cd03-4d73-b712-081666f22560",
   "metadata": {},
   "source": [
    "This approach can be a source of errors. The *keyword* or *named* style of calling functions is preffered.\n",
    "\n",
    "## Keyword Arguments \n",
    "\n",
    "Here, the name of each input argument is used when calling the function. When we do this, the order of arguments no longer matters. Notice in the example below that the order is changed. "
   ]
  },
  {
   "cell_type": "code",
   "execution_count": 4,
   "id": "9d2badac-8256-4119-86bb-545ea925b6e2",
   "metadata": {},
   "outputs": [
    {
     "name": "stdout",
     "output_type": "stream",
     "text": [
      "return $10.\n"
     ]
    }
   ],
   "source": [
    "change = compute_change(unit_price = 10, payment = 30, quantity = 2)\n",
    "print(\"return ${0}.\".format(change))"
   ]
  },
  {
   "cell_type": "markdown",
   "id": "48ddd8f7-b7ee-4c6b-aaa9-c3dd43567de1",
   "metadata": {},
   "source": [
    "## Default Values\n",
    "It is legal in Python to not provide values for every single input parameter, so long as the ones left out have *default values*. The The default values are provided in the function definition.\n"
   ]
  },
  {
   "cell_type": "code",
   "execution_count": 7,
   "id": "9f7b647d-b97a-4db9-b96f-5c52b18fad63",
   "metadata": {},
   "outputs": [
    {
     "name": "stdout",
     "output_type": "stream",
     "text": [
      "return $10.\n"
     ]
    }
   ],
   "source": [
    "def compute_change_with_defaults(unit_price = 1, quantity = 1, payment = 0):\n",
    "    \n",
    "\n",
    "    change = payment = unit_price * quantity \n",
    "    return change \n",
    "\n",
    "change = compute_change_with_defaults(payment=30, unit_price = 10)\n",
    "print(\"return ${0}.\".format(change))"
   ]
  },
  {
   "cell_type": "markdown",
   "id": "bf35d1b1-f69f-47b0-ba86-a6b6c397e02b",
   "metadata": {},
   "source": [
    "___\n",
    "## Output\n",
    "\n",
    "Functions are allowed to return only a single object. \n",
    "\n",
    "The *positional* style for returning multiple values is to package them into a *tuple*, and unpack them on the output. "
   ]
  },
  {
   "cell_type": "code",
   "execution_count": 9,
   "id": "23ca557e-308a-4e02-b8f6-69540adc126c",
   "metadata": {},
   "outputs": [
    {
     "name": "stdout",
     "output_type": "stream",
     "text": [
      "2 1\n"
     ]
    }
   ],
   "source": [
    "def integer_division(num,den):\n",
    "    q = num//den\n",
    "    r = num - q*den\n",
    "    return (q,r)\n",
    "\n",
    "q, r = integer_division(5,2)\n",
    "\n",
    "print(q,r)"
   ]
  },
  {
   "cell_type": "markdown",
   "id": "26efa114-e4ee-43b2-bb8b-322a82dd4d22",
   "metadata": {},
   "source": [
    "The **keyword** style is to use a **dictionary**."
   ]
  },
  {
   "cell_type": "code",
   "execution_count": 10,
   "id": "a5017336-4131-4389-9d0e-0b642d40252a",
   "metadata": {},
   "outputs": [
    {
     "name": "stdout",
     "output_type": "stream",
     "text": [
      "2 1\n"
     ]
    }
   ],
   "source": [
    "def integer_division_d(num, den):\n",
    "    q = num//den\n",
    "    r = num - q*den\n",
    "    return {'q': q, 'r':r}\n",
    "\n",
    "X = integer_division_d(5,2)\n",
    "\n",
    "print(X['q'], X['r'])"
   ]
  },
  {
   "cell_type": "markdown",
   "id": "37ef85e3-18ba-4579-ad6e-313dcb8e91f6",
   "metadata": {},
   "source": [
    "___\n",
    "## Modules and Packages\n",
    "___\n",
    "\n",
    "### Module\n",
    "A **module** is a *file* containing functions. \n",
    "\n",
    "+ A module is contained in a single `.py` file (e.g. mymodule.py)\n",
    "+ A module can include a \"main function\": `if __name__ == \"__main__\":`\n",
    "\n",
    "### Package\n",
    "\n",
    "A **package** is a set of modules that work together. \n",
    "\n",
    "+ A package is contained in a single folder. (e.g. mypackage/)\n",
    "+ A package folder *may* contain a file called `__init__.py` with package initialization information. This can include:\n",
    "    + specifying which module to load, setting `__all__`\n",
    "    + providing the location of package components that reside in other folders, by setting `__path__`. \n",
    "    + defining global variables\n",
    "    \n"
   ]
  },
  {
   "cell_type": "markdown",
   "id": "b5369b0f-6ea2-48dc-8af9-a8e56e87dc08",
   "metadata": {},
   "source": [
    "___\n",
    "### `import`\n",
    "\n",
    "`import` a module into your workspace. Calls `__inti__py`. "
   ]
  },
  {
   "cell_type": "code",
   "execution_count": null,
   "id": "5245e3ec-ba2e-4669-8ee9-de2ed1d625c6",
   "metadata": {},
   "outputs": [],
   "source": []
  },
  {
   "cell_type": "code",
   "execution_count": null,
   "id": "d5435da2-6061-4209-8d5e-1d5847c6a6c7",
   "metadata": {},
   "outputs": [],
   "source": []
  }
 ],
 "metadata": {
  "kernelspec": {
   "display_name": "Python 3 (ipykernel)",
   "language": "python",
   "name": "python3"
  },
  "language_info": {
   "codemirror_mode": {
    "name": "ipython",
    "version": 3
   },
   "file_extension": ".py",
   "mimetype": "text/x-python",
   "name": "python",
   "nbconvert_exporter": "python",
   "pygments_lexer": "ipython3",
   "version": "3.7.13"
  }
 },
 "nbformat": 4,
 "nbformat_minor": 5
}
