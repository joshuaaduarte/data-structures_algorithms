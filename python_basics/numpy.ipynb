{
 "cells": [
  {
   "cell_type": "markdown",
   "id": "40091034-3309-444b-8577-235692a00bcc",
   "metadata": {},
   "source": [
    "___ \n",
    "## Numpy\n",
    "___\n",
    "\n",
    "+ NumPy is a package for performing computations with **numerical lists**.\n",
    "+ Many scientific computing libraries are built NumPy. \n",
    "    + SciPy\n",
    "    + pandas\n",
    "    + scikit-learn\n",
    "    + python-control\n",
    "### Standard Import Statement"
   ]
  },
  {
   "cell_type": "code",
   "execution_count": 1,
   "id": "dd52343f-22d8-4281-8038-698ea1324c71",
   "metadata": {},
   "outputs": [],
   "source": [
    "import numpy as np"
   ]
  },
  {
   "cell_type": "markdown",
   "id": "2743e500-d85f-4d71-a666-1c28c79a24a1",
   "metadata": {},
   "source": [
    "### NumPy Arrays\n",
    "\n",
    "The main type in NumPy is the 'numpy array' or **ndarray** (for n-dimensional array).\n",
    "\n",
    "Create an ndarray with `np.array()`:"
   ]
  },
  {
   "cell_type": "code",
   "execution_count": 2,
   "id": "017a78bd-5510-4938-8d84-9d72b97c03f7",
   "metadata": {},
   "outputs": [
    {
     "name": "stdout",
     "output_type": "stream",
     "text": [
      "[1 2 3]\n"
     ]
    }
   ],
   "source": [
    "x = np.array([1,2,3])\n",
    "\n",
    "print(x)"
   ]
  },
  {
   "cell_type": "markdown",
   "id": "177d8774-9067-4f92-a11d-7cd5eafcd70b",
   "metadata": {},
   "source": [
    "A NumPy array is \n",
    "+ Multi-dimensional (arrays of arrays)\n",
    "+ Homogeneous (all elements are of the same type)\n",
    "+ Numerical (integers, floats, or complex)\n",
    "\n",
    "### Why prefer NumPy over native lists?\n",
    "1. Specialized functionality\n",
    "2. Tuned for speed. \n",
    "\n",
    "| NumPy arrays | Lists |\n",
    "| --- | --- |\n",
    "| low level types | Objects |\n",
    "| homogeneous | multiple types |\n",
    "| contiguous memory | scattered |\n"
   ]
  },
  {
   "cell_type": "markdown",
   "id": "746e2676-55cb-4c82-8013-cd894ac513e1",
   "metadata": {},
   "source": [
    "___\n",
    "## Creating Arrays \n",
    "___\n",
    "\n",
    "## 1-D Arrays \n",
    "### `np.array(x)`"
   ]
  },
  {
   "cell_type": "code",
   "execution_count": null,
   "id": "4ca2d961-b28b-4dde-94db-53dcea48115c",
   "metadata": {},
   "outputs": [],
   "source": []
  },
  {
   "cell_type": "markdown",
   "id": "2beb6ee6-c568-4b5c-ba0c-028a823ff463",
   "metadata": {},
   "source": [
    "### `empty(shape)` `zeros(shape)` `ones(shape)`"
   ]
  },
  {
   "cell_type": "code",
   "execution_count": null,
   "id": "d629e4ff-f551-4aa4-9a23-9237e44e2a3f",
   "metadata": {},
   "outputs": [],
   "source": []
  },
  {
   "cell_type": "markdown",
   "id": "8e69b4d1-15c8-4528-92c7-a4eb3781d4f7",
   "metadata": {},
   "source": [
    "### `linspace(start, stop, num)`"
   ]
  },
  {
   "cell_type": "code",
   "execution_count": null,
   "id": "f1c384fb-6ea3-4aa2-8e73-c8e407b851d2",
   "metadata": {},
   "outputs": [],
   "source": []
  },
  {
   "cell_type": "markdown",
   "id": "c2ef3159-56bf-4609-b356-da27ec94dbf2",
   "metadata": {},
   "source": [
    "## 2-D Arrays"
   ]
  },
  {
   "cell_type": "code",
   "execution_count": null,
   "id": "172cdd6e-9426-4a53-a17d-bcd2b0c6323b",
   "metadata": {},
   "outputs": [],
   "source": []
  },
  {
   "cell_type": "markdown",
   "id": "b7e1f79b-3551-4a01-b23d-47a746922b33",
   "metadata": {},
   "source": [
    "___\n",
    "## Manipulating Arrays\n",
    "___\n",
    "### `append(x,values)`: Append `values` to the end of `x`."
   ]
  },
  {
   "cell_type": "code",
   "execution_count": 5,
   "id": "0c873ace-a4fd-45a9-99e5-433fc6e35f89",
   "metadata": {},
   "outputs": [
    {
     "data": {
      "text/plain": [
       "array([  1,   2,   3, 100, 200])"
      ]
     },
     "execution_count": 5,
     "metadata": {},
     "output_type": "execute_result"
    }
   ],
   "source": [
    "x = np.array([1,2,3])\n",
    "\n",
    "np.append(x,[100,200])"
   ]
  },
  {
   "cell_type": "markdown",
   "id": "89d7653d-80e2-4179-8329-83715fbeb57d",
   "metadata": {},
   "source": [
    "### `insert(x,ind,values)`: Insert `values` into `x` at `ind`"
   ]
  },
  {
   "cell_type": "code",
   "execution_count": 6,
   "id": "5e2c2d91-06f3-453e-b680-10745788838f",
   "metadata": {},
   "outputs": [
    {
     "data": {
      "text/plain": [
       "array([  1,   2, 100, 200,   3,   4])"
      ]
     },
     "execution_count": 6,
     "metadata": {},
     "output_type": "execute_result"
    }
   ],
   "source": [
    "x = np.array([1,2,3,4])\n",
    "\n",
    "np.insert(x,2,[100,200])"
   ]
  },
  {
   "cell_type": "markdown",
   "id": "e66532ef-c35f-4f16-8908-761a274be055",
   "metadata": {},
   "source": [
    "### `concatenate((x1,x2,...))`: Concatenate a collection of arrays. "
   ]
  },
  {
   "cell_type": "code",
   "execution_count": 7,
   "id": "edc1e93d-efe7-4cd9-a32a-0762eb2f64fb",
   "metadata": {},
   "outputs": [
    {
     "data": {
      "text/plain": [
       "array([1, 2, 3, 4, 5, 6])"
      ]
     },
     "execution_count": 7,
     "metadata": {},
     "output_type": "execute_result"
    }
   ],
   "source": [
    "x1 = np.array([1,2,3])\n",
    "x2 = np.array([4,5,6])\n",
    "\n",
    "np.concatenate((x1,x2))"
   ]
  },
  {
   "cell_type": "markdown",
   "id": "84139af8-f273-48a7-b595-5585515f8f08",
   "metadata": {},
   "source": [
    "### `unique(x)`: Find the unique elements in `x`."
   ]
  },
  {
   "cell_type": "code",
   "execution_count": 8,
   "id": "a6261f75-d0a4-4abd-a8dd-44b6ec5407ad",
   "metadata": {},
   "outputs": [
    {
     "name": "stdout",
     "output_type": "stream",
     "text": [
      "[1 2 1 2 4 4 4 4]\n",
      "[1 2 4]\n"
     ]
    }
   ],
   "source": [
    "x = np.array([1,2,1,2,4,4,4,4])\n",
    "print(x)\n",
    "print(np.unique(x))"
   ]
  },
  {
   "cell_type": "markdown",
   "id": "6059a01e-149a-4ed7-86da-8b5162871e3b",
   "metadata": {},
   "source": [
    "___\n",
    "## Indexing\n",
    "___\n",
    "### 1D `[x]` where `x` is a list of indexes or a slice"
   ]
  },
  {
   "cell_type": "code",
   "execution_count": 3,
   "id": "1740876b-69d4-4a00-976f-d7d6de9fb223",
   "metadata": {},
   "outputs": [
    {
     "name": "stdout",
     "output_type": "stream",
     "text": [
      "[ 4 30 20]\n"
     ]
    }
   ],
   "source": [
    "import numpy as np\n",
    "a = np.array([4,7,9,4,9,30,6,20,54])\n",
    "\n",
    "print(a[3:8:2])"
   ]
  },
  {
   "cell_type": "markdown",
   "id": "42a6a00b-0464-4955-be11-fbbdf5ae34d8",
   "metadata": {},
   "source": [
    "## more than 1D: [x,y] (instead of lists' [x][y])\n"
   ]
  },
  {
   "cell_type": "code",
   "execution_count": 5,
   "id": "1cd0760b-7694-422b-b760-c6e1e4c369f9",
   "metadata": {},
   "outputs": [
    {
     "name": "stdout",
     "output_type": "stream",
     "text": [
      "[[1.5 2.  3. ]\n",
      " [4.  5.  6. ]]\n"
     ]
    },
    {
     "data": {
      "text/plain": [
       "array([[1.5, 3. ]])"
      ]
     },
     "execution_count": 5,
     "metadata": {},
     "output_type": "execute_result"
    }
   ],
   "source": [
    "b = np.array([(1.5,2,3),(4,5,6)])\n",
    "\n",
    "print(b)\n",
    "\n",
    "\n",
    "b[0:1, [0,2]]"
   ]
  },
  {
   "cell_type": "markdown",
   "id": "6c918a7e-57e5-4ac4-93ca-3ceaa5e0fbd6",
   "metadata": {},
   "source": [
    "## Boolean Indexing"
   ]
  },
  {
   "cell_type": "code",
   "execution_count": 6,
   "id": "79037c03-c72e-4418-921d-10bb53bd7bd8",
   "metadata": {},
   "outputs": [
    {
     "name": "stdout",
     "output_type": "stream",
     "text": [
      "[ 4  7  9  4  9 30  6 20 54]\n",
      "[ 9  9 30 20 54]\n"
     ]
    }
   ],
   "source": [
    "print(a)\n",
    "\n",
    "print(a[a>7])"
   ]
  },
  {
   "cell_type": "markdown",
   "id": "26fc045a-1ff9-4307-9c46-100ba9314d08",
   "metadata": {},
   "source": [
    "___\n",
    "## Iteration\n",
    "___\n",
    "\n",
    "Just like native python iterables."
   ]
  },
  {
   "cell_type": "code",
   "execution_count": 9,
   "id": "9730eb4e-ef9c-4afd-b7d7-028b6e8bdf69",
   "metadata": {},
   "outputs": [
    {
     "name": "stdout",
     "output_type": "stream",
     "text": [
      "x: [1.5 2.  3. ]\n",
      "1.5\n",
      "2.0\n",
      "3.0\n",
      "x: [4. 5. 6.]\n",
      "4.0\n",
      "5.0\n",
      "6.0\n"
     ]
    }
   ],
   "source": [
    "for x in b:\n",
    "    print('x:', x)\n",
    "    for y in x:\n",
    "        print(y)"
   ]
  },
  {
   "cell_type": "markdown",
   "id": "44ab8129-c890-48ee-a9f9-d75f6a8d3c83",
   "metadata": {},
   "source": [
    "___\n",
    "## Array Operations\n",
    "___\n",
    "### array + array\n",
    "+ Adding two python lists involves a `for` loop, or a comprehension.\n",
    "+ With NumPy you can add two arrays with `+`.\n",
    "+ Similar for other arithmetic operations. "
   ]
  },
  {
   "cell_type": "code",
   "execution_count": 10,
   "id": "35ced1a3-1cb5-43b2-a44e-2fc90af790bc",
   "metadata": {},
   "outputs": [
    {
     "name": "stdout",
     "output_type": "stream",
     "text": [
      "[5 7 9]\n",
      "[-3 -3 -3]\n",
      "[ 4 10 18]\n",
      "[0.25 0.4  0.5 ]\n",
      "[  1  32 729]\n",
      "[0 0 0]\n",
      "[1 2 3]\n"
     ]
    }
   ],
   "source": [
    "a = np.array([1,2,3])\n",
    "b = np.array([4,5,6])\n",
    "\n",
    "print(a+b)\n",
    "print(a-b)\n",
    "print(a*b)\n",
    "print(a/b)\n",
    "print(a**b)\n",
    "print(a//b)\n",
    "print(a%b)\n"
   ]
  },
  {
   "cell_type": "markdown",
   "id": "6f5256d0-6ec1-4660-86ad-987fb0d6bbb3",
   "metadata": {},
   "source": [
    "### array + scalar"
   ]
  },
  {
   "cell_type": "code",
   "execution_count": 11,
   "id": "90d45d59-49e0-425d-8d5b-f3e32dabdda5",
   "metadata": {},
   "outputs": [
    {
     "name": "stdout",
     "output_type": "stream",
     "text": [
      "[ 8  9 10]\n"
     ]
    }
   ],
   "source": [
    "print(a+7)"
   ]
  },
  {
   "cell_type": "markdown",
   "id": "46353b67-71d4-4bd4-9593-a0734c28ea62",
   "metadata": {},
   "source": [
    "___\n",
    "## Array Methods\n",
    "___\n"
   ]
  },
  {
   "cell_type": "markdown",
   "id": "2ecbea78-a22f-4cbe-9b32-bde5345bcdf8",
   "metadata": {},
   "source": [
    "## `dot`: Matrix product"
   ]
  },
  {
   "cell_type": "code",
   "execution_count": 13,
   "id": "a2d73d21-8734-46c2-8bf1-05888b4a1e92",
   "metadata": {},
   "outputs": [
    {
     "name": "stdout",
     "output_type": "stream",
     "text": [
      "A\n",
      " [[ 3  2  0]\n",
      " [ 1 -1  0]\n",
      " [ 0  5  1]]\n",
      "b\n",
      " [2 4 1]\n",
      "Ab\n",
      " [14 -2 21]\n",
      "AA\n",
      " [[11  4  0]\n",
      " [ 2  3  0]\n",
      " [ 5  0  1]]\n"
     ]
    }
   ],
   "source": [
    "A = np.array([[3,2,0], [1,-1,0], [0,5,1]])\n",
    "b = np.array([2,4,1])\n",
    "\n",
    "print(\"A\\n\", A)\n",
    "print(\"b\\n\", b)\n",
    "print(\"Ab\\n\", A.dot(b) ) # as method of ndarray\n",
    "print(\"AA\\n\", A.dot(A) ) # as method of ndarray"
   ]
  },
  {
   "cell_type": "markdown",
   "id": "be5044c0-2243-4fe4-ae16-685308e0ab61",
   "metadata": {},
   "source": [
    "## `T`: Transpose"
   ]
  },
  {
   "cell_type": "code",
   "execution_count": 14,
   "id": "9decfab6-98e0-4c11-bb4d-10dfdbdc3b2e",
   "metadata": {},
   "outputs": [
    {
     "data": {
      "text/plain": [
       "array([[ 3,  1,  0],\n",
       "       [ 2, -1,  5],\n",
       "       [ 0,  0,  1]])"
      ]
     },
     "execution_count": 14,
     "metadata": {},
     "output_type": "execute_result"
    }
   ],
   "source": [
    "A.T"
   ]
  },
  {
   "cell_type": "markdown",
   "id": "5dd9e365-7456-44cb-90eb-57f03dffd71c",
   "metadata": {},
   "source": [
    "## `all()` `any()`: Methods on boolean arrays"
   ]
  },
  {
   "cell_type": "code",
   "execution_count": 15,
   "id": "28a22deb-5546-44c9-992a-233cb8eacee8",
   "metadata": {},
   "outputs": [
    {
     "name": "stdout",
     "output_type": "stream",
     "text": [
      "[False False False False False  True  True  True  True  True]\n",
      "False\n",
      "True\n"
     ]
    }
   ],
   "source": [
    "A = np.arange(10)\n",
    "B = A>4\n",
    "print(B)\n",
    "print(np.all(B))\n",
    "print(np.any(B))"
   ]
  },
  {
   "cell_type": "markdown",
   "id": "361b1545-e26b-4df4-bdac-9203d62ab35d",
   "metadata": {},
   "source": [
    "## `cumsum()`: Cumulative sum"
   ]
  },
  {
   "cell_type": "code",
   "execution_count": 16,
   "id": "63d0f1c0-0c22-42b6-a14f-4857351a61bf",
   "metadata": {},
   "outputs": [
    {
     "name": "stdout",
     "output_type": "stream",
     "text": [
      "[0 1 2 3 4 5 6 7 8 9]\n",
      "[ 0  1  3  6 10 15 21 28 36 45]\n"
     ]
    }
   ],
   "source": [
    "print(A)\n",
    "print(np.cumsum(A))\n"
   ]
  },
  {
   "cell_type": "markdown",
   "id": "b2082d16-1e67-4f86-bf15-8c310ab429c3",
   "metadata": {},
   "source": [
    "## `diff()`: Differences between subsequent elements"
   ]
  },
  {
   "cell_type": "code",
   "execution_count": 17,
   "id": "ef2a9fc2-0dc6-4340-a868-0865ce6cfec2",
   "metadata": {},
   "outputs": [
    {
     "name": "stdout",
     "output_type": "stream",
     "text": [
      "10\n",
      "9\n"
     ]
    }
   ],
   "source": [
    "print(len(A))\n",
    "print(len(np.diff(A)))"
   ]
  },
  {
   "cell_type": "markdown",
   "id": "637711a9-cbd0-4980-96de-bcbf560d1bcc",
   "metadata": {},
   "source": [
    "## `ceil()` `floor()` `round()`: Rounding methods"
   ]
  },
  {
   "cell_type": "code",
   "execution_count": 18,
   "id": "140dcb5f-79d5-41a9-973a-7535fa433b0d",
   "metadata": {},
   "outputs": [
    {
     "name": "stdout",
     "output_type": "stream",
     "text": [
      "[0.         0.33333333 0.66666667 1.         1.33333333 1.66666667\n",
      " 2.         2.33333333 2.66666667 3.        ]\n",
      "[0. 1. 1. 1. 2. 2. 2. 3. 3. 3.]\n",
      "[0. 0. 0. 1. 1. 1. 2. 2. 2. 3.]\n",
      "[0. 0. 1. 1. 1. 2. 2. 2. 3. 3.]\n"
     ]
    }
   ],
   "source": [
    "B = A/3\n",
    "print(B)\n",
    "print(np.ceil(B))\n",
    "print(np.floor(B))\n",
    "print(np.round(B))"
   ]
  },
  {
   "cell_type": "markdown",
   "id": "24d0af04-478c-4679-9b7e-590c9ebe8bf2",
   "metadata": {},
   "source": [
    "## `max()`, `min()`, `argmax()`, `argmin()`: Largest and Smallest Elements"
   ]
  },
  {
   "cell_type": "code",
   "execution_count": 20,
   "id": "313365b1-89c0-420e-8631-57308266a46e",
   "metadata": {},
   "outputs": [
    {
     "name": "stdout",
     "output_type": "stream",
     "text": [
      "[2 1 9 0 7 5 3 8 4 6]\n",
      "9\n",
      "0\n",
      "2\n",
      "3\n"
     ]
    }
   ],
   "source": [
    "import random\n",
    "random.shuffle(A)\n",
    "\n",
    "print(A)\n",
    "print(np.max(A))\n",
    "print(np.min(A))\n",
    "print(np.argmax(A))\n",
    "print(np.argmin(A))"
   ]
  },
  {
   "cell_type": "markdown",
   "id": "7b665c14-1896-4aa4-b12e-25816ad00324",
   "metadata": {},
   "source": [
    "## `maximum()`, `minimum()`: Element-wise max and min between two arrays"
   ]
  },
  {
   "cell_type": "code",
   "execution_count": 21,
   "id": "ef8d0cd7-47b6-49fb-a040-b7b685933e5d",
   "metadata": {},
   "outputs": [
    {
     "name": "stdout",
     "output_type": "stream",
     "text": [
      "[1 2 3 4 5]\n",
      "[5 4 3 2 1]\n",
      "[5 4 3 4 5]\n",
      "[1 2 3 2 1]\n"
     ]
    }
   ],
   "source": [
    "A = np.array([1,2,3,4,5])\n",
    "B = np.array([5,4,3,2,1])\n",
    "print(A)\n",
    "print(B)\n",
    "print(np.maximum(A,B))\n",
    "print(np.minimum(A,B))"
   ]
  },
  {
   "cell_type": "markdown",
   "id": "5d2d743d-b7d9-47f0-a4df-f9f667079cd3",
   "metadata": {},
   "source": [
    "## `median()`, `mean()`, `std()`: Descriptive statistics"
   ]
  },
  {
   "cell_type": "code",
   "execution_count": 22,
   "id": "c5917755-9790-4f9f-8eb8-cc918dc32ce2",
   "metadata": {},
   "outputs": [
    {
     "name": "stdout",
     "output_type": "stream",
     "text": [
      "[0 0 0 0 1 2 3 4 5 6]\n",
      "1.5\n",
      "2.1\n",
      "2.1656407827707715\n"
     ]
    }
   ],
   "source": [
    "A = np.array([0,0,0,0,1,2,3,4,5,6])\n",
    "print(A)\n",
    "print(np.median(A))\n",
    "print(np.mean(A))\n",
    "print(np.std(A))"
   ]
  },
  {
   "cell_type": "markdown",
   "id": "371c8b69-bc05-4d5b-adf1-00b2372609ee",
   "metadata": {},
   "source": [
    "## `sum()`, `prod()`: Aggregation"
   ]
  },
  {
   "cell_type": "code",
   "execution_count": 23,
   "id": "ac3789a4-94e9-46a1-af62-26cc06984819",
   "metadata": {},
   "outputs": [
    {
     "name": "stdout",
     "output_type": "stream",
     "text": [
      "21\n",
      "0\n"
     ]
    }
   ],
   "source": [
    "print(np.sum(A))\n",
    "print(np.prod(A))"
   ]
  },
  {
   "cell_type": "markdown",
   "id": "9435f7bc-5e15-47b3-9fe3-507fd34fcd49",
   "metadata": {},
   "source": [
    "## `sort()` `argsort()`: Sorting"
   ]
  },
  {
   "cell_type": "code",
   "execution_count": 24,
   "id": "17d7848c-5d9d-4e9a-aff0-41606b379485",
   "metadata": {},
   "outputs": [
    {
     "name": "stdout",
     "output_type": "stream",
     "text": [
      "[9 8 5 4 6 7 0 2 3 1]\n",
      "[6 9 7 8 3 2 4 5 1 0]\n",
      "[0 1 2 3 4 5 6 7 8 9]\n",
      "['0' '1' '2' '3' '4' '5' '6' '7' '8' '9']\n"
     ]
    }
   ],
   "source": [
    "import random\n",
    "\n",
    "a = [0,1,2,3,4,5,6,7,8,9]\n",
    "random.shuffle(a)\n",
    "stra = [str(x) for x in a] \n",
    "A = np.array(a)\n",
    "strA = np.array(stra)\n",
    "\n",
    "ind = np.argsort(A)\n",
    "\n",
    "print(A)\n",
    "print(ind)\n",
    "\n",
    "print(A[ind])\n",
    "print(strA[ind])\n"
   ]
  },
  {
   "cell_type": "code",
   "execution_count": null,
   "id": "26df7299-6e1b-4226-80b0-b0ca3f371dc7",
   "metadata": {},
   "outputs": [],
   "source": []
  }
 ],
 "metadata": {
  "kernelspec": {
   "display_name": "Python 3 (ipykernel)",
   "language": "python",
   "name": "python3"
  },
  "language_info": {
   "codemirror_mode": {
    "name": "ipython",
    "version": 3
   },
   "file_extension": ".py",
   "mimetype": "text/x-python",
   "name": "python",
   "nbconvert_exporter": "python",
   "pygments_lexer": "ipython3",
   "version": "3.7.13"
  }
 },
 "nbformat": 4,
 "nbformat_minor": 5
}
