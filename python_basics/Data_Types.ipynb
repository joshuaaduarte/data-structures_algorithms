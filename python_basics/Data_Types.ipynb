{
 "cells": [
  {
   "cell_type": "markdown",
   "id": "f681edba-dbea-45ac-a975-ef5e8d2cd053",
   "metadata": {},
   "source": [
    "# Python Data Types\n",
    "\n",
    "### Scalars include  \n",
    "* int\n",
    "* float\n",
    "* bool  \n",
    "* complex  \n",
    "* None\n",
    "\n",
    "### Iterables Include  \n",
    "**Immutable**\n",
    "* str  \n",
    "* tuple  \n",
    "\n",
    "**Mutable**   \n",
    "* set {}\n",
    "* list []  \n",
    "* dict {:}  "
   ]
  },
  {
   "cell_type": "markdown",
   "id": "36359bba-c7b4-4895-bef4-c1c7183295b8",
   "metadata": {},
   "source": [
    "## Built In Functions\n",
    "\n",
    "+ `print(x)` : print 'x' to console.\n",
    "+ `help(x)` : print help for 'x'.\n",
    "+ `type(x)` : get the type of 'x'.\n",
    "+ `isinstance(x,y)` : Is the 'x' of type 'y'.\n",
    "+ `len(x)` : number of elements in 'x'."
   ]
  },
  {
   "cell_type": "markdown",
   "id": "9ab672aa-4c17-45b8-9375-f30e75d3066c",
   "metadata": {},
   "source": [
    "## Scalars\n",
    "___"
   ]
  },
  {
   "cell_type": "markdown",
   "id": "3a7038a0-aa93-4493-a978-6e4aa93a02ea",
   "metadata": {},
   "source": [
    "### int"
   ]
  },
  {
   "cell_type": "code",
   "execution_count": null,
   "id": "5a7f93bc-2fc3-4ced-afeb-660f8d1b2b7b",
   "metadata": {},
   "outputs": [],
   "source": []
  },
  {
   "cell_type": "markdown",
   "id": "3fe842d3-9458-40e2-b6c9-bdd1cc95e1c5",
   "metadata": {},
   "source": [
    "### float "
   ]
  },
  {
   "cell_type": "code",
   "execution_count": null,
   "id": "e1f3329f-089c-4015-bcb2-bfd388012f98",
   "metadata": {},
   "outputs": [],
   "source": []
  },
  {
   "cell_type": "markdown",
   "id": "4f8b347b-1c43-4dc3-bf98-a17a4c34f7ec",
   "metadata": {},
   "source": [
    "### bool"
   ]
  },
  {
   "cell_type": "code",
   "execution_count": null,
   "id": "38571e1c-6dac-4ff3-a711-773d52dfeb40",
   "metadata": {},
   "outputs": [],
   "source": []
  },
  {
   "cell_type": "markdown",
   "id": "2a07b7d3-f2d6-474f-819d-2ad5aa7d3394",
   "metadata": {},
   "source": [
    "### complex (j) "
   ]
  },
  {
   "cell_type": "code",
   "execution_count": null,
   "id": "58edc21c-e1f4-491e-8aa7-a8b45fff076b",
   "metadata": {},
   "outputs": [],
   "source": []
  },
  {
   "cell_type": "markdown",
   "id": "1df698fd-4edc-47fe-9fe1-62bb4025a838",
   "metadata": {},
   "source": [
    "### None\n",
    "+ `None` is different from `0`, `False`, and `''`.\n",
    "+ `None` only equals `None`."
   ]
  },
  {
   "cell_type": "markdown",
   "id": "ecb77cd0-c2d2-41da-8500-fa28f522ddcc",
   "metadata": {},
   "source": [
    "## Iterables\n",
    "___\n",
    "\n",
    "Iterable types in Python contain sets of elements. They are: \n",
    "+ **string** - ordered sequence of characters**\n",
    "+ **set** - sets of unique objects\n",
    "+ **tuple** - immutable ordered sets of objects\n",
    "+ **list** - mutable ordered sets of objects\n",
    "+ **dictionary** - mutable sets of keys/value pairs\n",
    "\n"
   ]
  },
  {
   "cell_type": "markdown",
   "id": "1c16d77c-2f8d-4a57-a3f0-b3a8c93d4ec1",
   "metadata": {},
   "source": [
    "___\n",
    "## Indexing Iterables\n",
    "___\n",
    "+ Strings, tuples, and lists are **ordered iterables**.\n",
    "+ Indexing is **0-based** and uses square brackets `[]`.\n",
    "+ Sets and dictionaries are not ordered. Therefore they cannot be indexed. \n",
    "\n",
    "**Example** : Index a string"
   ]
  },
  {
   "cell_type": "code",
   "execution_count": 14,
   "id": "6770a8a1-073e-47ce-aa46-e3d2613d6abf",
   "metadata": {},
   "outputs": [],
   "source": [
    "astring = 'Food is an important part of a balanced diet - Fran Lebowitz'"
   ]
  },
  {
   "cell_type": "markdown",
   "id": "89c41770-9dac-4152-a3df-fd7b6db9f748",
   "metadata": {},
   "source": [
    "**Example** : Index a list"
   ]
  },
  {
   "cell_type": "code",
   "execution_count": null,
   "id": "3da769d3-9422-4ca8-9cb1-7d07858854ef",
   "metadata": {},
   "outputs": [],
   "source": []
  },
  {
   "cell_type": "markdown",
   "id": "3aa9bdbd-fce2-48ec-85f2-801594bfea44",
   "metadata": {},
   "source": [
    "**Example** : Index a tuple"
   ]
  },
  {
   "cell_type": "code",
   "execution_count": null,
   "id": "f7ccfc89-f104-482e-ab1a-ea5efb3d92a7",
   "metadata": {},
   "outputs": [],
   "source": []
  },
  {
   "cell_type": "markdown",
   "id": "56865975-a08e-4cc9-a360-16cfe8b699b2",
   "metadata": {},
   "source": [
    "**Lists are mutable, tuples and strings are not**"
   ]
  },
  {
   "cell_type": "code",
   "execution_count": null,
   "id": "a19a7394-6093-4168-8f69-41830a5c74f3",
   "metadata": {},
   "outputs": [],
   "source": []
  },
  {
   "cell_type": "markdown",
   "id": "c9b641a6-bc8a-4c72-b597-ee79390fd47f",
   "metadata": {},
   "source": [
    "## Slice Indexing\n",
    "+ You can get a 'slice' of an iterable using the colon symbol `:`\n",
    "+ This returns a new iterable that is a portion of the original object. \n",
    "+ `astring[a:b]` is the substring starting at index `a` and ending at `b-1`"
   ]
  },
  {
   "cell_type": "code",
   "execution_count": null,
   "id": "af9f0d64-e562-40f5-9a44-e6a03f082f69",
   "metadata": {},
   "outputs": [],
   "source": []
  },
  {
   "cell_type": "markdown",
   "id": "93b85125-2fdb-4695-b4ed-a262cb16f0c7",
   "metadata": {},
   "source": [
    "+ Leaving out the start index means 'from the beginning'\n",
    "+ Leaving out the end index means 'to the end'"
   ]
  },
  {
   "cell_type": "code",
   "execution_count": null,
   "id": "05f17c8b-6176-4d44-bd61-8317b98c158a",
   "metadata": {},
   "outputs": [],
   "source": []
  },
  {
   "cell_type": "markdown",
   "id": "e0be5ab5-6d10-4836-b7ab-5b94f0c56788",
   "metadata": {},
   "source": [
    "## Negative Indices\n",
    "Negative indixies count backward from the end. "
   ]
  },
  {
   "cell_type": "code",
   "execution_count": null,
   "id": "ad0a3697-4199-440b-805b-1c99c2e92bfb",
   "metadata": {},
   "outputs": [],
   "source": []
  },
  {
   "cell_type": "markdown",
   "id": "767e8819-0e7d-46e3-9231-0ea30c0e1458",
   "metadata": {},
   "source": [
    "## Skipping Values\n",
    "You can specify a \"skip\" value after a second colon `A[start:end:skip]"
   ]
  },
  {
   "cell_type": "code",
   "execution_count": 4,
   "id": "dab98828-148c-49c9-9780-509d59f3df37",
   "metadata": {},
   "outputs": [
    {
     "data": {
      "text/plain": [
       "[0, 3]"
      ]
     },
     "execution_count": 4,
     "metadata": {},
     "output_type": "execute_result"
    }
   ],
   "source": [
    "A = [0,1,2,3,4,5,6,7,8,9]\n",
    "\n",
    "#What will this return?\n",
    "A[0:5:3]"
   ]
  },
  {
   "cell_type": "markdown",
   "id": "10d85351-2de3-4023-90af-5ffd43120c16",
   "metadata": {},
   "source": [
    "___\n",
    "## String Methods \n",
    "___ \n",
    "Things we can do with strings, \n",
    "+ create them\n",
    "+ change cases in various ways\n",
    "+ search for a substring\n",
    "+ split strings\n",
    "+ etc. "
   ]
  },
  {
   "cell_type": "code",
   "execution_count": 5,
   "id": "22857dcf-8885-4c29-b378-ddd01121e6c9",
   "metadata": {},
   "outputs": [
    {
     "data": {
      "text/plain": [
       "'123'"
      ]
     },
     "execution_count": 5,
     "metadata": {},
     "output_type": "execute_result"
    }
   ],
   "source": [
    "strA = 'ABC'\n",
    "strB = '123'\n",
    "\n",
    "strB.lower()"
   ]
  },
  {
   "cell_type": "markdown",
   "id": "9dbf3948-d650-4fc9-a147-5c6dc7857ffb",
   "metadata": {},
   "source": [
    "### String `+`\n"
   ]
  },
  {
   "cell_type": "code",
   "execution_count": null,
   "id": "cbbcdd43-bc53-4eef-92cd-8fda6a2a24ac",
   "metadata": {},
   "outputs": [],
   "source": []
  },
  {
   "cell_type": "markdown",
   "id": "e6df19ec-e12a-4389-9647-2ec76defe974",
   "metadata": {},
   "source": [
    "### Formatting string - `.format()`\n",
    "\n",
    "The `format()` method is especially useful for building strings that involve numerical or other variables. The function is powerful, and you can find advanced examples. However, the simple form works most of the time. Here is an example"
   ]
  },
  {
   "cell_type": "code",
   "execution_count": 6,
   "id": "40abee63-09b0-4a81-8a22-1f49dacfa1e2",
   "metadata": {},
   "outputs": [
    {
     "name": "stdout",
     "output_type": "stream",
     "text": [
      " Johann Sebastian Bach was born in 1685, and died in 1750.\n",
      " Johann Sebastian Bach was born in 1685, and died in 1750.\n"
     ]
    }
   ],
   "source": [
    "name = ' Johann Sebastian Bach'\n",
    "birth_year = 1685\n",
    "death_year = 1750\n",
    "\n",
    "#using the 'format' method \n",
    "str1 = '{0} was born in {1}, and died in {2}.'.format(name, birth_year, death_year)\n",
    "\n",
    "print(str1)\n",
    "\n",
    "# 'f-string' method\n",
    "str2 = f'{name} was born in {birth_year}, and died in {death_year}.'\n",
    "\n",
    "print(str2)"
   ]
  },
  {
   "cell_type": "markdown",
   "id": "196e3aa5-ba16-46bc-b7cb-1df38b8602d2",
   "metadata": {},
   "source": [
    "### `.split()`"
   ]
  },
  {
   "cell_type": "code",
   "execution_count": 11,
   "id": "69c21e54-8b7e-4509-9fb4-f25a677ef1df",
   "metadata": {},
   "outputs": [],
   "source": [
    "a = '1,phone,None, -4,5,'"
   ]
  },
  {
   "cell_type": "code",
   "execution_count": 12,
   "id": "7d0eeff0-94b9-497e-99ad-ef1916c98ee9",
   "metadata": {},
   "outputs": [
    {
     "data": {
      "text/plain": [
       "['1', 'phone', 'None', ' -4', '5', '']"
      ]
     },
     "execution_count": 12,
     "metadata": {},
     "output_type": "execute_result"
    }
   ],
   "source": [
    "a.split(',')"
   ]
  },
  {
   "cell_type": "markdown",
   "id": "fa10ddf2-dc87-4cad-b600-b500bab23d26",
   "metadata": {},
   "source": [
    "___ \n",
    "## 5-minute Challenge\n",
    "___\n",
    "Use `split` to extract the name of the author in `astring`."
   ]
  },
  {
   "cell_type": "code",
   "execution_count": 15,
   "id": "03f91c97-4293-483d-9184-470e32c47ce3",
   "metadata": {},
   "outputs": [
    {
     "name": "stdout",
     "output_type": "stream",
     "text": [
      "Food is an important part of a balanced diet - Fran Lebowitz\n"
     ]
    }
   ],
   "source": [
    "print(astring)"
   ]
  },
  {
   "cell_type": "code",
   "execution_count": 20,
   "id": "0ff9621c-f1f1-4540-b7ad-c89cdb9ad995",
   "metadata": {},
   "outputs": [
    {
     "data": {
      "text/plain": [
       "'Fran Lebowitz'"
      ]
     },
     "execution_count": 20,
     "metadata": {},
     "output_type": "execute_result"
    }
   ],
   "source": [
    "split = astring.split(' - ')\n",
    "author = split[1]\n",
    "author"
   ]
  },
  {
   "cell_type": "markdown",
   "id": "f58d10b4-ef75-42f7-9fa0-3fcb8e359ace",
   "metadata": {},
   "source": [
    "___\n",
    "## Lists \n",
    "___\n",
    "+ **list** is a sequence of objects that is: \n",
    "+ **ordered:** They can be indexed with `[]`.\n",
    "+ **inhomogeneous:** They can contain a variety of object types.\n",
    "+ **mutable:** You can modify them by adding and/or deleting items after they are created."
   ]
  },
  {
   "cell_type": "code",
   "execution_count": null,
   "id": "1e3728aa-8017-4f28-996b-8f3a2d5e24a3",
   "metadata": {},
   "outputs": [],
   "source": []
  },
  {
   "cell_type": "markdown",
   "id": "c71499c4-cce5-4d6b-b685-e64723e311c0",
   "metadata": {},
   "source": [
    "## List Methods\n",
    "The methods attached to list objects provide functionality for adding, removing, and changing the order of the elements in the a list.\n",
    "\n",
    "### Building Lists\n",
    "The `append`, `extend`, and `insert` methods can be used to populate a list. Later we will learn about \"list comprehensions\" which give us a compact syntac for building large lists (as well as sets and dictionaries).\n",
    "\n",
    "### `.append()` Puts a value at the end of the list.\n",
    "\n",
    "### `extend()` Appends each value of an iterable to the list.\n",
    "\n",
    "### `insert` Inserts an element at a given location in the list.\n",
    "\n",
    "### Removing Items from lists \n",
    "\n",
    "### `.remove()` Remove the first instance of a given object. \n",
    "\n",
    "### `.pop()` Extract the item at a given index and return it. \n",
    "\n",
    "### `del` Remove an item at a given index"
   ]
  },
  {
   "cell_type": "code",
   "execution_count": 22,
   "id": "fc59100e-f3fb-4777-9720-5d80d25743d8",
   "metadata": {},
   "outputs": [],
   "source": [
    "a = [4,1,9]"
   ]
  },
  {
   "cell_type": "markdown",
   "id": "b08b55c0-64af-4fbf-ac94-1f640070be2b",
   "metadata": {},
   "source": [
    "### `.clear()` Remove all items from the list. "
   ]
  },
  {
   "cell_type": "code",
   "execution_count": null,
   "id": "f2ae5618-c2d2-474a-884b-0d3d029d7553",
   "metadata": {},
   "outputs": [],
   "source": []
  },
  {
   "cell_type": "markdown",
   "id": "6e2091e3-0503-4914-97d5-ec36a7ca1ba3",
   "metadata": {},
   "source": [
    "___\n",
    "## 5 Minute Challenge\n",
    "___\n",
    "1. Create this list: [4,1,9]\n",
    "2. Use list object methods to put it in reverse order: [9,4,1]\n",
    "\n",
    "**Hint:** `help(a.sort)` and `help(a.reverse)`\n"
   ]
  },
  {
   "cell_type": "code",
   "execution_count": null,
   "id": "5cdda6e0-f134-47dd-810e-7125c068ace3",
   "metadata": {},
   "outputs": [],
   "source": []
  },
  {
   "cell_type": "markdown",
   "id": "1eac92c8-b19b-4671-a626-a4a5b69f1764",
   "metadata": {},
   "source": [
    "___"
   ]
  },
  {
   "cell_type": "markdown",
   "id": "d0026e7e-4deb-44be-a4bd-5ba0672f568f",
   "metadata": {},
   "source": [
    "## Tuples: `()`\n",
    "___"
   ]
  },
  {
   "cell_type": "markdown",
   "id": "cbf35fb8-720c-4d6d-a5b8-3eabccc6b40b",
   "metadata": {},
   "source": [
    "A **tuple** is a sequence of objects that is: \n",
    "\n",
    "+ **ordered**\n",
    "+ **inhomogenous**\n",
    "+ **mutable**\n",
    "\n",
    "Tuples offer only 2 methods: `count()` and `index()`.\n",
    "\n",
    "### Why use a *tuple* instead of a list?\n",
    "+ return values from functions\n",
    "+ keys in dictionaries\n"
   ]
  },
  {
   "cell_type": "code",
   "execution_count": null,
   "id": "04f29d25-d573-41e0-95c8-a4ecdb9a8a9b",
   "metadata": {},
   "outputs": [],
   "source": []
  },
  {
   "cell_type": "markdown",
   "id": "4eb3e69d-dfc7-4542-9748-fdd8998ccd05",
   "metadata": {},
   "source": [
    "___\n",
    "## Sets: `{}`\n",
    "___\n",
    "\n",
    "A **set** is a sequence of objects that is: \n",
    "+ **inhomogeneous**\n",
    "+ **not ordered**\n",
    "+ **mutable**\n",
    "+ **contains no duplicates**"
   ]
  },
  {
   "cell_type": "markdown",
   "id": "6ec866fb-c4d0-4e97-8e72-96dc25ad2a79",
   "metadata": {},
   "source": [
    "___ \n",
    "## 5 minute challenge \n",
    "___\n",
    "\n",
    "Use a `set` to count the number of unique words in the following paragraph.\n",
    "\n",
    "X = \"Python is an easy to learn, powerful programming language. It has efficient high-level data structures and a simple but effective approach to object-oriented programming. Python’s elegant syntax and dynamic typing, together with its interpreted nature, make it an ideal language for scripting and rapid application development in many areas on most platforms. The Python interpreter and the extensive standard library are freely available in source or binary form for all major platforms from the Python Web site, https://www.python.org/, and may be freely distributed. The same site also contains distributions of and pointers to many free third party Python modules, programs and tools, and additional documentation.\""
   ]
  },
  {
   "cell_type": "code",
   "execution_count": 25,
   "id": "f7b2bf1e-112b-4f36-ab3e-26fe0103c0ef",
   "metadata": {},
   "outputs": [
    {
     "name": "stdout",
     "output_type": "stream",
     "text": [
      "105\n"
     ]
    }
   ],
   "source": [
    "X = \"Python is an easy to learn, powerful programming language. It has efficient high-level data structures and a simple but effective approach to object-oriented programming. Python’s elegant syntax and dynamic typing, together with its interpreted nature, make it an ideal language for scripting and rapid application development in many areas on most platforms. The Python interpreter and the extensive standard library are freely available in source or binary form for all major platforms from the Python Web site, https://www.python.org/, and may be freely distributed. The same site also contains distributions of and pointers to many free third party Python modules, programs and tools, and additional documentation.\"\n",
    "\n",
    "words = X.split(' ')\n",
    "unique_words = set(words)\n",
    "\n",
    "print(len(words))"
   ]
  },
  {
   "cell_type": "markdown",
   "id": "625a2787-0529-4fce-b18b-ca63867f972c",
   "metadata": {},
   "source": [
    "___\n",
    "## Dictionaries: `{:}`\n",
    "___\n",
    "\n",
    "A **dictionary** is a mapping from a set of *keys* to a set of values. \n",
    "\n",
    "+ The keys in a dictionary must be **immutable** (scalars, strings, tuples). \n",
    "+ The values in a dictionary can be **anything**. \n",
    "+ Dictionaries are created with **curly brackets** and **colons**: {a1:b1, a2:b2}"
   ]
  },
  {
   "cell_type": "code",
   "execution_count": 27,
   "id": "cd7a8480-74a8-4bca-9a58-52467bd76adc",
   "metadata": {},
   "outputs": [
    {
     "name": "stdout",
     "output_type": "stream",
     "text": [
      "{'name': 'Johann Sebastian Bach', 'birth_year': 1685, 'death_year': 1750}\n"
     ]
    }
   ],
   "source": [
    "JSB = {'name' : 'Johann Sebastian Bach' , \n",
    "       'birth_year' : 1685 , \n",
    "       'death_year' : 1750 } \n",
    "print(JSB)"
   ]
  },
  {
   "cell_type": "markdown",
   "id": "a06db0ca-3392-4a04-8e84-4d660f880a95",
   "metadata": {},
   "source": [
    "### Querying the dictionary: square brackets "
   ]
  },
  {
   "cell_type": "code",
   "execution_count": null,
   "id": "ad0befa4-1eff-4915-b103-aa2e7781e6bd",
   "metadata": {},
   "outputs": [],
   "source": []
  },
  {
   "cell_type": "markdown",
   "id": "7f329501-9ecd-46f3-b6ea-5fad99e99c0c",
   "metadata": {},
   "source": [
    "### Get the set of keys"
   ]
  },
  {
   "cell_type": "code",
   "execution_count": null,
   "id": "d52be72d-5cbf-41f7-b477-8b73387b372d",
   "metadata": {},
   "outputs": [],
   "source": []
  },
  {
   "cell_type": "markdown",
   "id": "b43bc647-6251-4d94-8184-0c9eaf38f4ac",
   "metadata": {},
   "source": [
    "### Change the value"
   ]
  },
  {
   "cell_type": "code",
   "execution_count": null,
   "id": "2e7657bf-89ea-4548-b14e-432476eb4b9f",
   "metadata": {},
   "outputs": [],
   "source": []
  },
  {
   "cell_type": "markdown",
   "id": "b52082d6-d808-49a1-9b0f-57253ac7e8cc",
   "metadata": {},
   "source": [
    "### Add a new key-value pair"
   ]
  },
  {
   "cell_type": "code",
   "execution_count": null,
   "id": "ffd94c77-c119-4832-893d-c19de7a1051f",
   "metadata": {},
   "outputs": [],
   "source": []
  }
 ],
 "metadata": {
  "kernelspec": {
   "display_name": "Python 3 (ipykernel)",
   "language": "python",
   "name": "python3"
  },
  "language_info": {
   "codemirror_mode": {
    "name": "ipython",
    "version": 3
   },
   "file_extension": ".py",
   "mimetype": "text/x-python",
   "name": "python",
   "nbconvert_exporter": "python",
   "pygments_lexer": "ipython3",
   "version": "3.9.16"
  }
 },
 "nbformat": 4,
 "nbformat_minor": 5
}
