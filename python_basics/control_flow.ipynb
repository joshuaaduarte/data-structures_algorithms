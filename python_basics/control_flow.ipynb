{
 "cells": [
  {
   "cell_type": "markdown",
   "id": "0adcf032-738e-4f44-80ae-1a54984dbfe0",
   "metadata": {},
   "source": [
    "___ \n",
    "## Control Flow \n",
    "\n",
    "If Statements and loops\n",
    "___\n",
    "\n",
    "### On the use of whitespace in Python\n",
    "+ Other programming languages (C, C++, Java, Matlab, etc):\n",
    "    + *whitespace* (spaces and tabs) is ignored. \n",
    "    + Blocks of code are demarcated with special symbols curly bracks in C, C++, Java; 'end' in Matlab, etc). \n",
    "+ In contrast, Python *indentation* levels to demarcate blocks of code. \n",
    "+ **Consistency** is important\n",
    "+ Common Practice: \n",
    "    + **tab character** or \n",
    "    + **4 white spaces**\n",
    "    "
   ]
  },
  {
   "cell_type": "code",
   "execution_count": null,
   "id": "ad4beb93-91d7-4a08-bb90-2684bc4be439",
   "metadata": {},
   "outputs": [],
   "source": []
  },
  {
   "cell_type": "markdown",
   "id": "304bab71-4e9e-4beb-97ec-1b76167fc948",
   "metadata": {},
   "source": [
    "___\n",
    "## if statements\n",
    "___\n",
    "An *if* statement (or conditional statement) determines which of several blocks of code should be executed, depending on the value of a boolean expression. \n",
    "\n",
    "**Syntax**\n",
    "\n",
    "```python\n",
    "if <boolean expression 1>:\n",
    "    <code block 1>\n",
    "elif <boolean expression 2>:\n",
    "    <code block 2>\n",
    "    # ...\n",
    "elif <boolean expression N-1>:\n",
    "    <code block N-1>\n",
    "else:\n",
    "    <code block N>\n",
    "```\n",
    "\n",
    "### Example : Issuing a speeding ticket\n"
   ]
  },
  {
   "cell_type": "code",
   "execution_count": 4,
   "id": "1468bed4-3d23-45c1-9957-65b80ba9ebc6",
   "metadata": {},
   "outputs": [
    {
     "name": "stdout",
     "output_type": "stream",
     "text": [
      "You get a small ticket.\n"
     ]
    }
   ],
   "source": [
    "speed = 140 \n",
    "license_expired = False\n",
    "speed_limit = 120\n",
    "\n",
    "if speed > speed_limit and license_expired:\n",
    "    print('You get a big ticket!')\n",
    "if speed > speed_limit and not license_expired:\n",
    "    print(\"You get a small ticket.\")\n",
    "elif speed < 0: \n",
    "    print('Wrong way!')\n",
    "else: \n",
    "    print('Have a nice day!')\n",
    "          \n",
    "    "
   ]
  },
  {
   "cell_type": "markdown",
   "id": "12a74ac2-0f7c-40ab-9783-6fdd3c9901b7",
   "metadata": {},
   "source": [
    "**Note:**\n",
    "\n",
    "+ The boolean expressions can include `and`, `or`, and `not`.\n",
    "+ At most one code block will be executed. \n",
    "+ Don't forget the `:`\n",
    "\n",
    "___\n",
    "## 5-minute Challenge\n",
    "___\n",
    "Write code that will print whether you are at work or not depending on the day and time."
   ]
  },
  {
   "cell_type": "code",
   "execution_count": 12,
   "id": "b7e50933-e80d-4eb9-a680-adc0696666a8",
   "metadata": {},
   "outputs": [
    {
     "name": "stdout",
     "output_type": "stream",
     "text": [
      "You are at work\n"
     ]
    }
   ],
   "source": [
    "workdays = {\"Sunday\", \"Monday\", \"Tuesday\", \"Wednesday\", \"Thursday\"}\n",
    "start_time = 8\n",
    "end_time = 16\n",
    "\n",
    "day = \"Sunday\"\n",
    "time = 9\n",
    "\n",
    "if day in workdays and (time >= 8) and (time <= end_time):\n",
    "    print(\"You are at work\")\n",
    "else: \n",
    "    print(\"You are not at work\")"
   ]
  },
  {
   "cell_type": "markdown",
   "id": "59054c38-6e17-490e-aa7c-edc8324372cc",
   "metadata": {},
   "source": [
    "___\n",
    "## While Loops \n",
    "___\n",
    "\n",
    "A **while** loop executes a block of code as long as a boolean expression evaluates to `True`. \n",
    "\n",
    "`while <boolean expression>:      <code block>`\n",
    "\n",
    "**Example**"
   ]
  },
  {
   "cell_type": "code",
   "execution_count": null,
   "id": "082e9ab5-e507-497e-a2a6-ebc7bf779ba8",
   "metadata": {},
   "outputs": [],
   "source": []
  },
  {
   "cell_type": "markdown",
   "id": "66115229-3958-4364-afd0-6ce6bd4b12ac",
   "metadata": {},
   "source": [
    "___\n",
    "## For Loops \n",
    "___\n",
    "\n",
    "A **for** loop executes the block of code as many times as there are items in a given iterable (set, list, tuple, string, or dict). A variable is assigned successive values from the iterable. If the iterable is non-sequential (i.e. a set or dict), then the order is not guaranteed.\n",
    "\n",
    "```python\n",
    "fir <variable> in <iterable>:\n",
    "    <code block>\n",
    "    \n",
    "```\n",
    "\n",
    "### Example: Iterate through a list\n"
   ]
  },
  {
   "cell_type": "code",
   "execution_count": 1,
   "id": "ac1f06f1-4670-470d-9b7e-246b2891a342",
   "metadata": {},
   "outputs": [],
   "source": [
    "alist = ('5', 9+1j, 0.1)"
   ]
  },
  {
   "cell_type": "markdown",
   "id": "2c239f54-011b-42f2-8976-2189d668d845",
   "metadata": {},
   "source": [
    "### Example: iterate through a set"
   ]
  },
  {
   "cell_type": "code",
   "execution_count": 2,
   "id": "29a54046-c194-480e-aef8-64975f47a8cb",
   "metadata": {},
   "outputs": [],
   "source": [
    "aset = {'5', 9+1j, 0.1,0.1,0.1}"
   ]
  },
  {
   "cell_type": "markdown",
   "id": "1b537e55-2f4a-457e-8c09-092756015e17",
   "metadata": {},
   "source": [
    "### Example: Iterate through a tuple"
   ]
  },
  {
   "cell_type": "code",
   "execution_count": 3,
   "id": "aff76084-4379-4a0b-b236-8d053f9241d0",
   "metadata": {},
   "outputs": [],
   "source": [
    "atuple = ('5', 9+1j, 0.1,0.1,0.1)"
   ]
  },
  {
   "cell_type": "markdown",
   "id": "e6778090-8935-454c-a9f0-8a7b9b480b89",
   "metadata": {},
   "source": [
    "### Example: Iterate through a dict\n"
   ]
  },
  {
   "cell_type": "markdown",
   "id": "d3c5684c-101a-4c58-bb77-212eba663134",
   "metadata": {},
   "source": [
    "adict = {0:'5', 1: 9, 2:0.1}\n"
   ]
  },
  {
   "cell_type": "markdown",
   "id": "d6eee11c-0a69-473f-b237-f073a6b44764",
   "metadata": {},
   "source": [
    "**Note**. `adict.items()` returns key/value pairs as tuples"
   ]
  },
  {
   "cell_type": "markdown",
   "id": "9385903b-6dda-4ff1-b97b-2e902a18c2e2",
   "metadata": {},
   "source": [
    "## `break` and `continue`\n",
    "\n",
    "Used within loops (both `for` and `while`).\n",
    "\n",
    "+ `break`: exit the for (or while) loop immediately.\n",
    "+ `continue`: ignore the rest of the block and go on to next iteration/\n",
    "\n",
    "**Example**: it is common to use `while True:` with a `break` statement. "
   ]
  },
  {
   "cell_type": "code",
   "execution_count": 4,
   "id": "4dabb8b6-bf94-4dd7-ac2b-132baf3e7af6",
   "metadata": {},
   "outputs": [
    {
     "name": "stdout",
     "output_type": "stream",
     "text": [
      "0.5\n",
      "1.0\n",
      "1.5\n",
      "2.0\n",
      "2.5\n",
      "3.0\n"
     ]
    }
   ],
   "source": [
    "x = 0 \n",
    "while True: \n",
    "    x = x + 0.5\n",
    "    print(x)\n",
    "    if x**2>=9:\n",
    "        break"
   ]
  },
  {
   "cell_type": "markdown",
   "id": "d9048c88-5cdc-45a1-90f9-114fa50a9228",
   "metadata": {},
   "source": [
    "## range\n",
    "\n",
    "it is very common to iterate through a uniformly spaced list of numers. The `range` function (it is actually a type) is useful for this.\n",
    "\n",
    "**Syntax** `range(start,stop,step)` (step is optional)\n",
    "\n",
    "### Examples"
   ]
  },
  {
   "cell_type": "code",
   "execution_count": 5,
   "id": "0637c095-fe1c-4e0b-a7e9-9244df8bc885",
   "metadata": {},
   "outputs": [
    {
     "name": "stdout",
     "output_type": "stream",
     "text": [
      "0\n",
      "2\n",
      "4\n",
      "6\n",
      "8\n",
      "10\n"
     ]
    }
   ],
   "source": [
    "for a in range (0,12,2):\n",
    "    print(a)"
   ]
  },
  {
   "cell_type": "code",
   "execution_count": 6,
   "id": "36f81131-5cbf-46e2-bd78-9010d7bc7fdb",
   "metadata": {},
   "outputs": [
    {
     "data": {
      "text/plain": [
       "[4, 6, 8, 10]"
      ]
     },
     "execution_count": 6,
     "metadata": {},
     "output_type": "execute_result"
    }
   ],
   "source": [
    "a = range (4,11,2)\n",
    "list(a)"
   ]
  },
  {
   "cell_type": "code",
   "execution_count": 7,
   "id": "f092f8d5-7520-45c1-a06f-690564e11c79",
   "metadata": {},
   "outputs": [],
   "source": [
    "#iterate through numbers from 0 to 4"
   ]
  },
  {
   "cell_type": "code",
   "execution_count": null,
   "id": "34d6fd28-55be-4262-8323-d41d691af3b8",
   "metadata": {},
   "outputs": [],
   "source": []
  }
 ],
 "metadata": {
  "kernelspec": {
   "display_name": "Python 3 (ipykernel)",
   "language": "python",
   "name": "python3"
  },
  "language_info": {
   "codemirror_mode": {
    "name": "ipython",
    "version": 3
   },
   "file_extension": ".py",
   "mimetype": "text/x-python",
   "name": "python",
   "nbconvert_exporter": "python",
   "pygments_lexer": "ipython3",
   "version": "3.7.13"
  }
 },
 "nbformat": 4,
 "nbformat_minor": 5
}
