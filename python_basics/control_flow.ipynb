{
 "cells": [
  {
   "cell_type": "markdown",
   "id": "0adcf032-738e-4f44-80ae-1a54984dbfe0",
   "metadata": {},
   "source": [
    "___ \n",
    "## Control Flow \n",
    "\n",
    "If Statements and loops\n",
    "___\n",
    "\n",
    "### On the use of whitespace in Python\n",
    "+ Other programming languages (C, C++, Java, Matlab, etc):\n",
    "    + *whitespace* (spaces and tabs) is ignored. \n",
    "    + Blocks of code are demarcated with special symbols curly bracks in C, C++, Java; 'end' in Matlab, etc). \n",
    "+ In contrast, Python *indentation* levels to demarcate blocks of code. \n",
    "+ **Consistency** is important\n",
    "+ Common Practice: \n",
    "    + **tab character** or \n",
    "    + **4 white spaces**\n",
    "    "
   ]
  },
  {
   "cell_type": "code",
   "execution_count": null,
   "id": "ad4beb93-91d7-4a08-bb90-2684bc4be439",
   "metadata": {},
   "outputs": [],
   "source": []
  },
  {
   "cell_type": "markdown",
   "id": "304bab71-4e9e-4beb-97ec-1b76167fc948",
   "metadata": {},
   "source": [
    "___\n",
    "## if statements\n",
    "___\n",
    "An *if* statement (or conditional statement) determines which of several blocks of code should be executed, depending on the value of a boolean expression. \n",
    "\n",
    "**Syntax**\n",
    "\n",
    "```python\n",
    "if <boolean expression 1>:\n",
    "    <code block 1>\n",
    "elif <boolean expression 2>:\n",
    "    <code block 2>\n",
    "    # ...\n",
    "elif <boolean expression N-1>:\n",
    "    <code block N-1>\n",
    "else:\n",
    "    <code block N>\n",
    "```\n",
    "\n",
    "### Example : Issuing a speeding ticket\n"
   ]
  },
  {
   "cell_type": "code",
   "execution_count": 4,
   "id": "1468bed4-3d23-45c1-9957-65b80ba9ebc6",
   "metadata": {},
   "outputs": [
    {
     "name": "stdout",
     "output_type": "stream",
     "text": [
      "You get a small ticket.\n"
     ]
    }
   ],
   "source": [
    "speed = 140 \n",
    "license_expired = False\n",
    "speed_limit = 120\n",
    "\n",
    "if speed > speed_limit and license_expired:\n",
    "    print('You get a big ticket!')\n",
    "if speed > speed_limit and not license_expired:\n",
    "    print(\"You get a small ticket.\")\n",
    "elif speed < 0: \n",
    "    print('Wrong way!')\n",
    "else: \n",
    "    print('Have a nice day!')\n",
    "          \n",
    "    "
   ]
  },
  {
   "cell_type": "markdown",
   "id": "12a74ac2-0f7c-40ab-9783-6fdd3c9901b7",
   "metadata": {},
   "source": [
    "**Note:**\n",
    "\n",
    "+ The boolean expressions can include `and`, `or`, and `not`.\n",
    "+ At most one code block will be executed. \n",
    "+ Don't forget the `:`\n",
    "\n",
    "___\n",
    "## 5-minute Challenge\n",
    "___\n",
    "Write code that will print whether you are at work or not depending on the day and time."
   ]
  },
  {
   "cell_type": "code",
   "execution_count": 12,
   "id": "b7e50933-e80d-4eb9-a680-adc0696666a8",
   "metadata": {},
   "outputs": [
    {
     "name": "stdout",
     "output_type": "stream",
     "text": [
      "You are at work\n"
     ]
    }
   ],
   "source": [
    "workdays = {\"Sunday\", \"Monday\", \"Tuesday\", \"Wednesday\", \"Thursday\"}\n",
    "start_time = 8\n",
    "end_time = 16\n",
    "\n",
    "day = \"Sunday\"\n",
    "time = 9\n",
    "\n",
    "if day in workdays and (time >= 8) and (time <= end_time):\n",
    "    print(\"You are at work\")\n",
    "else: \n",
    "    print(\"You are not at work\")"
   ]
  }
 ],
 "metadata": {
  "kernelspec": {
   "display_name": "Python 3 (ipykernel)",
   "language": "python",
   "name": "python3"
  },
  "language_info": {
   "codemirror_mode": {
    "name": "ipython",
    "version": 3
   },
   "file_extension": ".py",
   "mimetype": "text/x-python",
   "name": "python",
   "nbconvert_exporter": "python",
   "pygments_lexer": "ipython3",
   "version": "3.9.12"
  }
 },
 "nbformat": 4,
 "nbformat_minor": 5
}
