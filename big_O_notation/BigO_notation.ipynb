{
 "cells": [
  {
   "cell_type": "markdown",
   "id": "d68c844d-45b7-4174-ad59-472c66c3a49f",
   "metadata": {},
   "source": [
    "# Big O Notation \n",
    "\n",
    "### Time Complexity\n",
    "\n",
    "Common Run Times: O(log N), O(N log N), O(N), O(N^2), and O(2^N)\n",
    "\n",
    "## Space Complexity\n",
    "\n",
    "Space complexity is a parallel concept to time complexity. If we need to create an array of size n, this will require O(n) space. If we need a two-dimensional array of size nxn, this will require O(n^2) space\n",
    "\n",
    "* If your algorithm is in the form 'do this, then, when you're all done, do that' then add the runtimes. \n",
    "* If your algorithm is in the form 'do this for each time you do that' then multiply the runtimes. \n",
    "\n",
    "* When you see a problem where the number of elements in the problem space get halved each time, that will likely be a O(log N) runtime.\n",
    "\n",
    "* When you have a recursive function that makes multuple calls, the runtime will often (but not always) look like O(branches^depth), where the branches is the number of times each recursive call branches. In this case, this gives us O(2^n).\n"
   ]
  },
  {
   "cell_type": "markdown",
   "id": "1cf0f4b5-b401-4ca8-a51e-9746ee20ef00",
   "metadata": {},
   "source": []
  }
 ],
 "metadata": {
  "kernelspec": {
   "display_name": "Python 3 (ipykernel)",
   "language": "python",
   "name": "python3"
  },
  "language_info": {
   "codemirror_mode": {
    "name": "ipython",
    "version": 3
   },
   "file_extension": ".py",
   "mimetype": "text/x-python",
   "name": "python",
   "nbconvert_exporter": "python",
   "pygments_lexer": "ipython3",
   "version": "3.9.12"
  }
 },
 "nbformat": 4,
 "nbformat_minor": 5
}
