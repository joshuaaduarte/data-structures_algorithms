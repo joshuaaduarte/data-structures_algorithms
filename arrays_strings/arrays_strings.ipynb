{
 "cells": [
  {
   "cell_type": "markdown",
   "id": "aa7eb1ec-8811-4411-bb7a-fd946d4809f8",
   "metadata": {},
   "source": [
    "# Arrays and Strings\n",
    "---\n",
    "\n",
    "### Hash Tables\n",
    "\n",
    "* A hash table is a data structure that maps keys to values for highly efficient lookup. \n",
    "\n",
    "* If there are a high number of collisions in a hash table, the worst case runtime is O(N), where N is the number of keys. However, we generally assume a good implementation that keeps collisions to a minimum, in which case the lookup time is O(1). \n",
    "\n"
   ]
  },
  {
   "cell_type": "markdown",
   "id": "b4907fd1-8254-47ee-993e-9398209edbbb",
   "metadata": {
    "tags": []
   },
   "source": [
    "# Interview Questions"
   ]
  },
  {
   "cell_type": "code",
   "execution_count": null,
   "id": "0f7b1b9f-e190-463a-a1e9-044c41573f26",
   "metadata": {},
   "outputs": [],
   "source": [
    "# Implement an algorithm to determine if a string has all unique characters. What if you cannot use additional data structures. \n",
    "\n",
    "def unique(string): \n",
    "    \n",
    "    for element in string: "
   ]
  }
 ],
 "metadata": {
  "kernelspec": {
   "display_name": "Python 3 (ipykernel)",
   "language": "python",
   "name": "python3"
  },
  "language_info": {
   "codemirror_mode": {
    "name": "ipython",
    "version": 3
   },
   "file_extension": ".py",
   "mimetype": "text/x-python",
   "name": "python",
   "nbconvert_exporter": "python",
   "pygments_lexer": "ipython3",
   "version": "3.9.12"
  }
 },
 "nbformat": 4,
 "nbformat_minor": 5
}
