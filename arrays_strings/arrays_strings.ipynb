{
 "cells": [
  {
   "cell_type": "markdown",
   "id": "aa7eb1ec-8811-4411-bb7a-fd946d4809f8",
   "metadata": {},
   "source": [
    "# Arrays and Strings\n",
    "---\n",
    "\n",
    "### Hash Tables\n",
    "\n",
    "* A hash table is a data structure that maps keys to values for highly efficient lookup. \n",
    "\n",
    "* If there are a high number of collisions in a hash table, the worst case runtime is O(N), where N is the number of keys. However, we generally assume a good implementation that keeps collisions to a minimum, in which case the lookup time is O(1). \n",
    "\n",
    "* Hash tables in pythons are also known as dictionaries.   \n",
    "\n",
    "* Creating an empty hash table (dictionary)  \n",
    "hash_table = {}\n",
    "\n",
    "* Adding key-value pairs to the hash table  \n",
    "hash_table[\"apple\"] = 5  \n",
    "hash_table[\"banana\"] = 2  \n",
    "hash_table[\"cherry\"] = 8  \n",
    "\n",
    "* Accessing values by their keys  \n",
    "print(hash_table[\"apple\"])  # Outputs: 5  \n",
    "print(hash_table[\"banana\"])  # Outputs: 2  \n",
    "print(hash_table[\"cherry\"])  # Outputs: 8  \n",
    "\n",
    "* Modifying values\n",
    "hash_table[\"banana\"] = 10  \n",
    "print(hash_table[\"banana\"])  # Outputs: 10  \n",
    "\n",
    "* Checking if a key exists\n",
    "if \"grape\" in hash_table:  \n",
    "    print(hash_table[\"grape\"])  \n",
    "else:  \n",
    "    print(\"Grape is not in the hash table.\")  # Outputs: Grape is not in the hash table.  \n",
    "\n",
    "* Removing a key-value pair  \n",
    "del hash_table[\"cherry\"]  \n",
    "print(hash_table)  # Outputs: {'apple': 5, 'banana': 10}\n",
    "\n",
    "\n",
    "\n"
   ]
  },
  {
   "cell_type": "markdown",
   "id": "b4907fd1-8254-47ee-993e-9398209edbbb",
   "metadata": {
    "tags": []
   },
   "source": [
    "# Interview Questions"
   ]
  },
  {
   "cell_type": "code",
   "execution_count": 12,
   "id": "0f7b1b9f-e190-463a-a1e9-044c41573f26",
   "metadata": {},
   "outputs": [
    {
     "name": "stdout",
     "output_type": "stream",
     "text": [
      "my code returns True\n",
      "gpt code returns True\n"
     ]
    }
   ],
   "source": [
    "# Implement an algorithm to determine if a string has all unique characters. What if you cannot use additional data structures. \n",
    "\n",
    "# Post Reflection - Instead of setting element in dictionary to string, it seems better to set it equal to 'True'. \n",
    "\n",
    "\n",
    "# my code\n",
    "def unique(string): \n",
    "    hashTable = {}\n",
    "    for element in string:\n",
    "        if element in hashTable:\n",
    "            return False\n",
    "        else:\n",
    "            hashTable[element] = \"\"\n",
    "    return True\n",
    "\n",
    "\n",
    "\n",
    "\n",
    "# gpt code\n",
    "def has_unique_characters(string):\n",
    "    char_set = {}  # Initialize an empty hash table (dictionary)\n",
    "    for char in string:\n",
    "        if char in char_set:\n",
    "            return False  # This character has been seen before\n",
    "        char_set[char] = True\n",
    "    \n",
    "    return True  # No repeated characters found\n",
    "\n",
    "# Test Cases\n",
    "\n",
    "string = 'joshua'\n",
    "print(\"my code returns \" + str(unique(string)))\n",
    "print(\"gpt code returns \" + str(has_unique_characters(string)))\n"
   ]
  },
  {
   "cell_type": "code",
   "execution_count": 20,
   "id": "32186332-fe82-465a-8937-45a24a9b9277",
   "metadata": {},
   "outputs": [
    {
     "name": "stdout",
     "output_type": "stream",
     "text": [
      "my code returns True\n",
      "GPT Code returns True\n"
     ]
    }
   ],
   "source": [
    "# Check Permutation: Given two strungsm write a method to decide if one is a permutation of the other\n",
    "\n",
    "# Post Reflection - I did not check permutation, but checked if the character existed in both strings. I should have set the \n",
    "# dictionary to a numerical count. The gpt code cycles through the newly made dictionary and then compares it with the second string\n",
    "# by subtracting from the dictionaries count and returning false if the counter reaches zero or is not in the dictionary\n",
    "# Also, it makes a simple chack at the beggining by checking if the string sare of the same length or not which immediately checks \n",
    "# if the strings are permutations of each other. \n",
    "\n",
    "\n",
    "# My code\n",
    "def check_permutation(stringOne, stringTwo): \n",
    "    #base case\n",
    "    if len(stringOne) & len(stringTwo) == 0:\n",
    "        return True\n",
    "    stringOneDict = {}\n",
    "    for char in stringOne:\n",
    "        stringOneDict[char] = True\n",
    "    for char in stringTwo:\n",
    "        if char not in stringOneDict:\n",
    "            return False\n",
    "    return True\n",
    "\n",
    "# GPT Code \n",
    "\n",
    "def are_permutations(str1, str2):\n",
    "    # Step 1: Check if the lengths are the same\n",
    "    if len(str1) != len(str2):\n",
    "        return False\n",
    "\n",
    "    # Step 2: Count character occurrences\n",
    "    char_count = {}\n",
    "\n",
    "    # Count characters in the first string\n",
    "    for char in str1:\n",
    "        char_count[char] = char_count.get(char, 0) + 1\n",
    "\n",
    "    # Compare with the second string\n",
    "    for char in str2:\n",
    "        if char not in char_count or char_count[char] == 0:\n",
    "            return False\n",
    "        char_count[char] -= 1\n",
    "\n",
    "    return True\n",
    "\n",
    "\n",
    "\n",
    "\n",
    "# Test Case\n",
    "stringOne = ''\n",
    "stringTwo = ''\n",
    "\n",
    "print('my code returns ' + str(check_permutation(stringOne, stringTwo)))\n",
    "print('GPT Code returns ' + str(are_permutations(stringOne, stringTwo)))"
   ]
  },
  {
   "cell_type": "code",
   "execution_count": 24,
   "id": "cb3ff863-3b8c-465f-a5d5-abf39e7c5957",
   "metadata": {},
   "outputs": [
    {
     "name": "stdout",
     "output_type": "stream",
     "text": [
      "['M', 'r', ' ', 'J', 'o', 'h', 'n', ' ', 'S', 'm', 'i', 't', 'h', ' ', ' ', ' ', ' ']\n",
      "Mr%20ohn%20mith\n"
     ]
    }
   ],
   "source": [
    " # URLify: Write a method to replace all spaces in a string with '%20'. You may assume that the string has sufficient \n",
    " # space at the end to hold addtiional characters, and that you are given the \"true\" length of the string.\n",
    "\n",
    "# def URLify(string):\n",
    "#     for char in string:\n",
    "#         if char == ' ':\n",
    "#             char = '%20'\n",
    "#     return string\n",
    "\n",
    "# string = \"this is a test\"\n",
    "# URLify(string)\n",
    "\n",
    "# GPT code\n",
    "\n",
    "def urlify(input_str, true_length):\n",
    "    # Convert the string to a list of characters to make it mutable\n",
    "    char_list = list(input_str)\n",
    "    print(char_list)\n",
    "\n",
    "    # Start from the end of the string\n",
    "    for i in range(true_length - 1, -1, -1):\n",
    "        if char_list[i] == ' ':\n",
    "            # Replace a space with '%20'\n",
    "            char_list[i + 2:] = char_list[i + 1: true_length]  # Shift characters to the right\n",
    "            char_list[i:i + 3] = '%20'\n",
    "            true_length += 2  # Update the true length\n",
    "\n",
    "    # Convert the character list back to a string\n",
    "    return ''.join(char_list)\n",
    "\n",
    "# Example usage:\n",
    "input_str = \"Mr John Smith    \"\n",
    "true_length = 13  # The true length of the string excluding trailing spaces\n",
    "result = urlify(input_str, true_length)\n",
    "print(result)  # Outputs: \"Mr%20John%20Smith\"\n",
    "\n"
   ]
  },
  {
   "cell_type": "code",
   "execution_count": 32,
   "id": "d3ff67f4-4a4e-4d66-8822-dc581b06d65b",
   "metadata": {},
   "outputs": [
    {
     "data": {
      "text/plain": [
       "True"
      ]
     },
     "execution_count": 32,
     "metadata": {},
     "output_type": "execute_result"
    }
   ],
   "source": [
    "# Palindrome Permutation: Given a string, write a function to check if it is a permutation of a palindrome.\n",
    "\n",
    "def isPalindromePermutation(string):\n",
    "    # create an empty dictionary to have a count of each character in string\n",
    "    stringTable = {}\n",
    "    # iterate through each character, and if it is not a space, add the character to the dictionary and its respective count\n",
    "    for char in string:\n",
    "        if char != ' ':\n",
    "            # adds value to the key 'char'. If it is not in the table, add it, and if it is, add one\n",
    "            stringTable[char] = stringTable.get(char, 0) + 1\n",
    "    # create variable to see if there is only one odd character out for if it is not, it cannot be a palindrome.\n",
    "    check = 0\n",
    "    # iterate through the values of the dictionary\n",
    "    for value in stringTable.values():\n",
    "        # if the remainder is not 0 meaning it has an odd number of characters in the string, it will be added to the check variable which will return false if true\n",
    "        if value % 2 != 0:\n",
    "            check +=1\n",
    "        if check > 1:\n",
    "            return False\n",
    "    return True\n",
    "\n",
    "\n",
    "string = 'taco cat'\n",
    "isPalindromePermutation(string)"
   ]
  },
  {
   "cell_type": "code",
   "execution_count": 36,
   "id": "1eafe5fd-ee6b-4d4a-937a-76d4a5328af4",
   "metadata": {},
   "outputs": [
    {
     "ename": "IndentationError",
     "evalue": "expected an indented block (1379361802.py, line 27)",
     "output_type": "error",
     "traceback": [
      "\u001b[1;36m  Input \u001b[1;32mIn [36]\u001b[1;36m\u001b[0m\n\u001b[1;33m    stringOne = 'pale'\u001b[0m\n\u001b[1;37m    ^\u001b[0m\n\u001b[1;31mIndentationError\u001b[0m\u001b[1;31m:\u001b[0m expected an indented block\n"
     ]
    }
   ],
   "source": [
    "# One Away: There are three types of edits that can be performed on strings: insert a character, remove a character, or replace a character\n",
    "# Given two strings, write a function to chack if they are one edit (or zero edits) away\n",
    "\n",
    "def oneAway(stringOne, stringTwo):\n",
    "    difference = abs(len(stringOne) - len(stringTwo)) \n",
    "    if difference > 1:\n",
    "        return False\n",
    "                     \n",
    "    if difference == 1:\n",
    "        oneInsertAway(stringOne, stringTwo)\n",
    "                     \n",
    "    return oneReplaceAway(stringOne, stringTwo)\n",
    "                     \n",
    "def oneReplaceAway(stringOne, stringTwo):\n",
    "    different = False\n",
    "    for i in range(len(stringOne)):          \n",
    "        if stringOne[i] != stringTwo[i]:\n",
    "            if different:\n",
    "                return False\n",
    "            different = True\n",
    "    return True\n",
    "\n",
    "def oneInsertAway(stringOne, stringTwo):\n",
    "    return True\n",
    "                     \n",
    "                     \n",
    "stringOne = 'pale'\n",
    "stringTwo = 'paale'\n",
    "oneAway(stringOne, stringTwo)"
   ]
  },
  {
   "cell_type": "code",
   "execution_count": null,
   "id": "998d698c-6411-48e6-94c2-318ceac24f55",
   "metadata": {},
   "outputs": [],
   "source": []
  }
 ],
 "metadata": {
  "kernelspec": {
   "display_name": "Python 3 (ipykernel)",
   "language": "python",
   "name": "python3"
  },
  "language_info": {
   "codemirror_mode": {
    "name": "ipython",
    "version": 3
   },
   "file_extension": ".py",
   "mimetype": "text/x-python",
   "name": "python",
   "nbconvert_exporter": "python",
   "pygments_lexer": "ipython3",
   "version": "3.9.12"
  }
 },
 "nbformat": 4,
 "nbformat_minor": 5
}
