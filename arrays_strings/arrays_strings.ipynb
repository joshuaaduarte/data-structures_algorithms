{
 "cells": [
  {
   "cell_type": "markdown",
   "id": "aa7eb1ec-8811-4411-bb7a-fd946d4809f8",
   "metadata": {},
   "source": [
    "# Arrays and Strings\n",
    "---\n",
    "\n",
    "### Hash Tables\n",
    "\n",
    "* A hash table is a data structure that maps keys to values for highly efficient lookup. \n",
    "\n",
    "* If there are a high number of collisions in a hash table, the worst case runtime is O(N), where N is the number of keys. However, we generally assume a good implementation that keeps collisions to a minimum, in which case the lookup time is O(1). \n",
    "\n",
    "* Hash tables in pythons are also known as dictionaries.   \n",
    "\n",
    "* Creating an empty hash table (dictionary)  \n",
    "hash_table = {}\n",
    "\n",
    "* Adding key-value pairs to the hash table  \n",
    "hash_table[\"apple\"] = 5  \n",
    "hash_table[\"banana\"] = 2  \n",
    "hash_table[\"cherry\"] = 8  \n",
    "\n",
    "* Accessing values by their keys  \n",
    "print(hash_table[\"apple\"])  # Outputs: 5  \n",
    "print(hash_table[\"banana\"])  # Outputs: 2  \n",
    "print(hash_table[\"cherry\"])  # Outputs: 8  \n",
    "\n",
    "* Modifying values\n",
    "hash_table[\"banana\"] = 10  \n",
    "print(hash_table[\"banana\"])  # Outputs: 10  \n",
    "\n",
    "* Checking if a key exists\n",
    "if \"grape\" in hash_table:  \n",
    "    print(hash_table[\"grape\"])  \n",
    "else:  \n",
    "    print(\"Grape is not in the hash table.\")  # Outputs: Grape is not in the hash table.  \n",
    "\n",
    "* Removing a key-value pair  \n",
    "del hash_table[\"cherry\"]  \n",
    "print(hash_table)  # Outputs: {'apple': 5, 'banana': 10}\n",
    "\n",
    "\n",
    "\n"
   ]
  },
  {
   "cell_type": "markdown",
   "id": "b4907fd1-8254-47ee-993e-9398209edbbb",
   "metadata": {
    "tags": []
   },
   "source": [
    "# Interview Questions"
   ]
  },
  {
   "cell_type": "code",
   "execution_count": 12,
   "id": "0f7b1b9f-e190-463a-a1e9-044c41573f26",
   "metadata": {},
   "outputs": [
    {
     "name": "stdout",
     "output_type": "stream",
     "text": [
      "my code returns True\n",
      "gpt code returns True\n"
     ]
    }
   ],
   "source": [
    "# Implement an algorithm to determine if a string has all unique characters. What if you cannot use additional data structures. \n",
    "\n",
    "# Post Reflection - Instead of setting element in dictionary to string, it seems better to set it equal to 'True'. \n",
    "\n",
    "\n",
    "# my code\n",
    "def unique(string): \n",
    "    hashTable = {}\n",
    "    for element in string:\n",
    "        if element in hashTable:\n",
    "            return False\n",
    "        else:\n",
    "            hashTable[element] = \"\"\n",
    "    return True\n",
    "\n",
    "\n",
    "\n",
    "\n",
    "# gpt code\n",
    "def has_unique_characters(string):\n",
    "    char_set = {}  # Initialize an empty hash table (dictionary)\n",
    "    for char in string:\n",
    "        if char in char_set:\n",
    "            return False  # This character has been seen before\n",
    "        char_set[char] = True\n",
    "    \n",
    "    return True  # No repeated characters found\n",
    "\n",
    "# Test Cases\n",
    "\n",
    "string = 'joshua'\n",
    "print(\"my code returns \" + str(unique(string)))\n",
    "print(\"gpt code returns \" + str(has_unique_characters(string)))\n"
   ]
  },
  {
   "cell_type": "code",
   "execution_count": 20,
   "id": "32186332-fe82-465a-8937-45a24a9b9277",
   "metadata": {},
   "outputs": [
    {
     "name": "stdout",
     "output_type": "stream",
     "text": [
      "my code returns True\n",
      "GPT Code returns True\n"
     ]
    }
   ],
   "source": [
    "# Check Permutation: Given two strungsm write a method to decide if one is a permutation of the other\n",
    "\n",
    "# Post Reflection - I did not check permutation, but checked if the character existed in both strings. I should have set the \n",
    "# dictionary to a numerical count. The gpt code cycles through the newly made dictionary and then compares it with the second string\n",
    "# by subtracting from the dictionaries count and returning false if the counter reaches zero or is not in the dictionary\n",
    "# Also, it makes a simple chack at the beggining by checking if the string sare of the same length or not which immediately checks \n",
    "# if the strings are permutations of each other. \n",
    "\n",
    "\n",
    "# My code\n",
    "def check_permutation(stringOne, stringTwo): \n",
    "    #base case\n",
    "    if len(stringOne) & len(stringTwo) == 0:\n",
    "        return True\n",
    "    stringOneDict = {}\n",
    "    for char in stringOne:\n",
    "        stringOneDict[char] = True\n",
    "    for char in stringTwo:\n",
    "        if char not in stringOneDict:\n",
    "            return False\n",
    "    return True\n",
    "\n",
    "# GPT Code \n",
    "\n",
    "def are_permutations(str1, str2):\n",
    "    # Step 1: Check if the lengths are the same\n",
    "    if len(str1) != len(str2):\n",
    "        return False\n",
    "\n",
    "    # Step 2: Count character occurrences\n",
    "    char_count = {}\n",
    "\n",
    "    # Count characters in the first string\n",
    "    for char in str1:\n",
    "        char_count[char] = char_count.get(char, 0) + 1\n",
    "\n",
    "    # Compare with the second string\n",
    "    for char in str2:\n",
    "        if char not in char_count or char_count[char] == 0:\n",
    "            return False\n",
    "        char_count[char] -= 1\n",
    "\n",
    "    return True\n",
    "\n",
    "\n",
    "\n",
    "\n",
    "# Test Case\n",
    "stringOne = ''\n",
    "stringTwo = ''\n",
    "\n",
    "print('my code returns ' + str(check_permutation(stringOne, stringTwo)))\n",
    "print('GPT Code returns ' + str(are_permutations(stringOne, stringTwo)))"
   ]
  },
  {
   "cell_type": "code",
   "execution_count": null,
   "id": "cb3ff863-3b8c-465f-a5d5-abf39e7c5957",
   "metadata": {},
   "outputs": [],
   "source": [
    " # URLify: Write a method to replace all spaces in a string with '%20'. You may assume that the string has sufficient \n",
    " # space at the end to hold addtiional characters, and that you are given the \"true\" length of the string.\n",
    "\n",
    "def URLify(string):\n",
    "    return True\n",
    "\n"
   ]
  }
 ],
 "metadata": {
  "kernelspec": {
   "display_name": "Python 3 (ipykernel)",
   "language": "python",
   "name": "python3"
  },
  "language_info": {
   "codemirror_mode": {
    "name": "ipython",
    "version": 3
   },
   "file_extension": ".py",
   "mimetype": "text/x-python",
   "name": "python",
   "nbconvert_exporter": "python",
   "pygments_lexer": "ipython3",
   "version": "3.9.12"
  }
 },
 "nbformat": 4,
 "nbformat_minor": 5
}
