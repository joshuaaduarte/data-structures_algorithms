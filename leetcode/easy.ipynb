{
 "cells": [
  {
   "cell_type": "markdown",
   "id": "5ee7b8da-019d-4b57-931b-c79edef78d86",
   "metadata": {},
   "source": [
    "# Leetcode Easy\n",
    "---"
   ]
  },
  {
   "cell_type": "code",
   "execution_count": null,
   "id": "436e741e-7e5a-4085-9b0c-32f734216a62",
   "metadata": {},
   "outputs": [],
   "source": [
    "# 1. Two Sum\n",
    "\n",
    "# Given an array of integers 'nums' and an integer 'target', return indicies of the two numbers such that they add up to 'target' \n",
    "\n",
    "class Solution: \n",
    "    def twoSum(self, ums: List[int], target: int) --> List[int]:\n",
    "        \n",
    "        "
   ]
  }
 ],
 "metadata": {
  "kernelspec": {
   "display_name": "Python 3 (ipykernel)",
   "language": "python",
   "name": "python3"
  },
  "language_info": {
   "codemirror_mode": {
    "name": "ipython",
    "version": 3
   },
   "file_extension": ".py",
   "mimetype": "text/x-python",
   "name": "python",
   "nbconvert_exporter": "python",
   "pygments_lexer": "ipython3",
   "version": "3.9.12"
  }
 },
 "nbformat": 4,
 "nbformat_minor": 5
}
