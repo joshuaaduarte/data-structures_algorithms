{
 "cells": [
  {
   "cell_type": "markdown",
   "id": "5ee7b8da-019d-4b57-931b-c79edef78d86",
   "metadata": {},
   "source": [
    "# Leetcode Easy\n",
    "---"
   ]
  },
  {
   "cell_type": "markdown",
   "id": "556d84e9-3d09-49fa-b5cb-7ab5f33d3efe",
   "metadata": {},
   "source": [
    "### 226. Invert Binary Tree\n",
    "\n",
    "Given the __root__ of a binary tree, invert the tree, and return its root.\n",
    "\n",
    "Example 1: \n",
    "\n",
    "Input: root = [4.2.7.1.3.6.9]  \n",
    "Output: [4,7,2,9,6,3,1]\n",
    "\n",
    "Example 2:\n",
    "\n",
    "Input: root = [2,1,3]  \n",
    "Output: [2.3.1]\n",
    "\n",
    "Example 3: \n",
    " \n",
    "Input: root = [ ]   \n",
    "Output: [ ]\n",
    "\n",
    "Constraints:\n",
    "* The number of nodes in the tree is in the range [0,100]  \n",
    "* -100 <= Node.val <=100"
   ]
  },
  {
   "cell_type": "code",
   "execution_count": null,
   "id": "60e4aefa-a0ca-48b5-80de-d034040e6868",
   "metadata": {},
   "outputs": [],
   "source": [
    "# Definition for a binary tree node. \n",
    "# class TreeNode: \n",
    "#   def __init__(self, val-0, left=Nonem right=None):\n",
    "#       self.val = val\n",
    "#       self.left = left\n",
    "#       self.right = right\n",
    "class Solution: \n",
    "    def invertTree(self, root: Optional[TreeNode]) -> Optional[TreeNode]:\n",
    "        "
   ]
  },
  {
   "cell_type": "markdown",
   "id": "876cdd21-c19f-4b34-9ede-c4c9530fab5d",
   "metadata": {},
   "source": [
    "### 1. Two Sum\n",
    "\n",
    "Given an array of integers __nums_ and an integer _target_, return indicies of the two numbers such that they add up to _target_"
   ]
  },
  {
   "cell_type": "code",
   "execution_count": null,
   "id": "436e741e-7e5a-4085-9b0c-32f734216a62",
   "metadata": {},
   "outputs": [],
   "source": [
    "# 1. Two Sum\n",
    "\n",
    "# Given an array of integers 'nums' and an integer 'target', return indicies of the two numbers such that they add up to 'target' \n",
    "\n",
    "class Solution: \n",
    "    def twoSum(self, ums: List[int], target: int) --> List[int]:\n",
    "        \n",
    "        "
   ]
  },
  {
   "cell_type": "markdown",
   "id": "d0bc4252-e643-4b51-872b-34691154f327",
   "metadata": {},
   "source": [
    "### 9. Palindrome Number\n",
    "\n",
    "Given an integer __x__, return __true__ if __x__ is a _palindrome_, and __false__ otherwise\n",
    "\n",
    "Example 1:  \n",
    "Input: x = 121  \n",
    "Output: True  \n",
    "Explanation: 121 reads as 121 from left to right and from right to left. \n",
    "\n",
    "Example 2:  \n",
    "Input: x = -121  \n",
    "Output: False  \n",
    "Explanation: From left to right, it reads as -121. From right to left, it becomes 121-, therefore it is not a palindrome.\n",
    "\n",
    "Example 3:  \n",
    "Input: x = 10  \n",
    "Output: False  \n",
    "Explanation: Reads 01 from right to left. Therefore it is not a palindrome.\n",
    "\n",
    "Constraints; \n",
    "-2^31 <= x < 2^31 -1\n",
    "\n",
    "Follow Up: Could you solve it without converting the integer into a string\n"
   ]
  },
  {
   "cell_type": "code",
   "execution_count": 1,
   "id": "bf82534a-9b40-48a0-b4f1-6620a04ad6fb",
   "metadata": {},
   "outputs": [
    {
     "ename": "IndentationError",
     "evalue": "expected an indented block (330077838.py, line 3)",
     "output_type": "error",
     "traceback": [
      "\u001b[1;36m  Input \u001b[1;32mIn [1]\u001b[1;36m\u001b[0m\n\u001b[1;33m    \u001b[0m\n\u001b[1;37m    ^\u001b[0m\n\u001b[1;31mIndentationError\u001b[0m\u001b[1;31m:\u001b[0m expected an indented block\n"
     ]
    }
   ],
   "source": [
    "class Solution: \n",
    "    def isPalindrome(self, x: int) -> bool:\n",
    "        "
   ]
  },
  {
   "cell_type": "markdown",
   "id": "5552900e-7aab-4170-ad51-59cddf192958",
   "metadata": {},
   "source": [
    "### 13. Roman to Integer\n",
    "\n",
    "Roman numerals are represented by seven different symbols: I, V, X, L, C, D, and M\n",
    "\n",
    "I: 1  \n",
    "V: 5  \n",
    "X: 10  \n",
    "L: 50  \n",
    "C: 100  \n",
    "D: 500  \n",
    "M: 1000  \n",
    "\n"
   ]
  }
 ],
 "metadata": {
  "kernelspec": {
   "display_name": "Python 3 (ipykernel)",
   "language": "python",
   "name": "python3"
  },
  "language_info": {
   "codemirror_mode": {
    "name": "ipython",
    "version": 3
   },
   "file_extension": ".py",
   "mimetype": "text/x-python",
   "name": "python",
   "nbconvert_exporter": "python",
   "pygments_lexer": "ipython3",
   "version": "3.9.12"
  }
 },
 "nbformat": 4,
 "nbformat_minor": 5
}
